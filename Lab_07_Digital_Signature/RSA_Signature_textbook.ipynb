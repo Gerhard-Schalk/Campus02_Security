{
  "metadata": {
    "kernelspec": {
      "name": "python",
      "display_name": "Python (Pyodide)",
      "language": "python"
    },
    "language_info": {
      "codemirror_mode": {
        "name": "python",
        "version": 3
      },
      "file_extension": ".py",
      "mimetype": "text/x-python",
      "name": "python",
      "nbconvert_exporter": "python",
      "pygments_lexer": "ipython3",
      "version": "3.8"
    }
  },
  "nbformat_minor": 4,
  "nbformat": 4,
  "cells": [
    {
      "cell_type": "markdown",
      "source": "<h1>Textbook RSA</h1>",
      "metadata": {}
    },
    {
      "cell_type": "code",
      "source": "from Crypto.Util.number import *\nfrom Crypto import Random\nimport Crypto\nimport binascii\nfrom xgcd import * \nfrom print_bytes_util import print_bytes",
      "metadata": {
        "trusted": true
      },
      "execution_count": null,
      "outputs": []
    },
    {
      "cell_type": "markdown",
      "source": "Task: Try different bit length and messages.",
      "metadata": {}
    },
    {
      "cell_type": "code",
      "source": "rsa_bit_length = 1024\nplain_text = 'Hello World'",
      "metadata": {
        "trusted": true
      },
      "execution_count": null,
      "outputs": []
    },
    {
      "cell_type": "markdown",
      "source": "<h2>RSA Key Generation</h2>",
      "metadata": {}
    },
    {
      "cell_type": "code",
      "source": "#Generate two large random primes, p and q, of approximately equal size \np = Crypto.Util.number.getPrime(rsa_bit_length//2, randfunc=Crypto.Random.get_random_bytes)\nq = Crypto.Util.number.getPrime(rsa_bit_length//2, randfunc=Crypto.Random.get_random_bytes)\n\n#Calculate the modulus n:  n = p ∙ q\nn = p*q\n\n#Calculate 𝛗(𝒏)= (p-1) ∙(q-1)\nPHI=(p-1)*(q-1)\n\n#Choose public exponent e co prime to 𝛗(𝒏) and 𝐞≠±𝟏\ne=65537\n\n#Calculate secret exponent 𝒅=𝒆^−𝟏 (𝒎𝒐𝒅𝛗𝒏)\nd= xgdc(e, PHI)\n\nprint(f'RSA key length = {rsa_bit_length} bits')\nprint(f'Message (plain text) = {plain_text}\\n')\n\nprint('prime number p = 0x' + str(hex(p))[2:].upper() )\nprint('prime number q = 0x' + str(hex(q))[2:].upper() + '\\n')\n\nprint('Public Key (e, n):')\nprint('  e = 0x' + str(hex(e))[2:].upper() )\nprint('  n = 0x' + str(hex(n))[2:].upper() + '\\n')\n\nprint('Private Key (d, n):')\nprint('  d = 0x' + str(hex(d))[2:].upper() )\nprint('  n = 0x' + str(hex(n))[2:].upper() + '\\n')\n",
      "metadata": {
        "trusted": true
      },
      "execution_count": null,
      "outputs": []
    },
    {
      "cell_type": "markdown",
      "source": "<h2>RSA Sign - Alice generates a RSA signature</h2>\nSigning is using the private key {d, n}<br>\n* Calculate the message hash: h = hash(M)<br>\n* Sign h to calculate the signature: s = h^d (mod n)\n",
      "metadata": {}
    },
    {
      "cell_type": "code",
      "source": "from cryptography.hazmat.primitives import hashes\n\nprint('Message = ' + plain_text)\ndigest = hashes.Hash( hashes.SHA1() )\nalice_baMessage = plain_text.encode('utf-8')\ndigest.update(alice_baMessage)\nalice_hashFromMessage_bytes = digest.finalize()\n\nprint('Alice: h = hash(message) 0x' + alice_hashFromMessage_bytes.hex(' ').upper())\n\nalice_hashFromMessage_long =  bytes_to_long(alice_hashFromMessage_bytes)\nalice_rsa_signature = pow(alice_hashFromMessage_long, d, n)\n\nprint_bytes('Alice: RSA Signature s = 0x', long_to_bytes(alice_rsa_signature), 16)\n",
      "metadata": {
        "trusted": true
      },
      "execution_count": null,
      "outputs": []
    },
    {
      "cell_type": "markdown",
      "source": "<h2>RSA Verify- Bob performs the signature verification</h2>\nVerify is using the public key {d, n}<br>\n* Calculate the message hash: h = hash(M)<br>\n* Verify the signature: h' = s^e (mod n)<br>\n* Compare h with h' to check if the signature is valid or not",
      "metadata": {}
    },
    {
      "cell_type": "code",
      "source": "from cryptography.hazmat.primitives import hashes\n\n#plain_text = 'Mallory has modified the message'\n\nprint('Message = ' + plain_text)\ndigest = hashes.Hash( hashes.SHA1() )\nbaMessage = plain_text.encode('utf-8')\ndigest.update(baMessage)\nbob_hashFromMessage_bytes = digest.finalize()\nprint_bytes('Bob: h =  hash(message) 0x', bob_hashFromMessage_bytes, 16)\n\nbob_hashFromSignature_long  = pow(alice_rsa_signature, e, n)\nbob_hashFromSignature_bytes = long_to_bytes(bob_hashFromSignature_long)\n\nprint_bytes('Bob: h = s^e (mod n) = 0x', bob_hashFromSignature_bytes, 16)\n\nprint(\"Signature valid:\", bob_hashFromMessage_bytes == bob_hashFromSignature_bytes)",
      "metadata": {
        "trusted": true
      },
      "execution_count": null,
      "outputs": []
    },
    {
      "cell_type": "code",
      "source": "",
      "metadata": {},
      "execution_count": null,
      "outputs": []
    }
  ]
}