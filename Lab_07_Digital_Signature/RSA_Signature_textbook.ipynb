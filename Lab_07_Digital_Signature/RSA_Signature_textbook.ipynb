{
 "cells": [
  {
   "attachments": {},
   "cell_type": "markdown",
   "metadata": {},
   "source": [
    "<h1>Textbook RSA</h1>"
   ]
  },
  {
   "cell_type": "code",
   "execution_count": null,
   "metadata": {},
   "outputs": [],
   "source": [
    "from Crypto.Util.number import *\n",
    "from Crypto import Random\n",
    "import Crypto\n",
    "import binascii\n",
    "from xgcd import * \n",
    "from print_bytes_util import print_bytes"
   ]
  },
  {
   "attachments": {},
   "cell_type": "markdown",
   "metadata": {},
   "source": [
    "Task: Try different bit length and messages."
   ]
  },
  {
   "cell_type": "code",
   "execution_count": null,
   "metadata": {},
   "outputs": [],
   "source": [
    "rsa_bit_length = 512\n",
    "plain_text = 'Hello World'"
   ]
  },
  {
   "attachments": {},
   "cell_type": "markdown",
   "metadata": {},
   "source": [
    "<h2>RSA Key Generation</h2>"
   ]
  },
  {
   "cell_type": "code",
   "execution_count": null,
   "metadata": {},
   "outputs": [],
   "source": [
    "#Generate two large random primes, p and q, of approximately equal size \n",
    "p = Crypto.Util.number.getPrime(rsa_bit_length, randfunc=Crypto.Random.get_random_bytes)\n",
    "q = Crypto.Util.number.getPrime(rsa_bit_length, randfunc=Crypto.Random.get_random_bytes)\n",
    "\n",
    "#Calculate the modulus n:  n = p ∙ q\n",
    "n = p*q\n",
    "\n",
    "#Calculate 𝛗𝒏= (p 1) ∙(q 1)\n",
    "PHI=(p-1)*(q-1)\n",
    "\n",
    "#Choose public exponent e co prime to 𝛗𝒏and 𝐞≠±𝟏\n",
    "e=65537\n",
    "\n",
    "#Calculate secret exponent 𝒅=𝒆^−𝟏 (𝒎𝒐𝒅𝛗𝒏)\n",
    "d= xgdc(e, PHI)\n",
    "\n",
    "print(f'RSA key length = {rsa_bit_length} bits')\n",
    "print(f'Message (plain text) = {plain_text}\\n')\n",
    "\n",
    "print('prime number p = 0x' + str(hex(p))[2:].upper() )\n",
    "print('prime number q = 0x' + str(hex(q))[2:].upper() + '\\n')\n",
    "\n",
    "print('Public Key (e, n):')\n",
    "print('  e = 0x' + str(hex(e))[2:].upper() )\n",
    "print('  n = 0x' + str(hex(n))[2:].upper() + '\\n')\n",
    "\n",
    "print('Private Key (d, n):')\n",
    "print('  d = 0x' + str(hex(d))[2:].upper() )\n",
    "print('  n = 0x' + str(hex(n))[2:].upper() + '\\n')\n"
   ]
  },
  {
   "attachments": {},
   "cell_type": "markdown",
   "metadata": {},
   "source": [
    "<h2>RSA Sign - Alice generates a RSA signature</h2>\n",
    "Signing is using the private key {d, n}<br>\n",
    "* Calculate the message hash: h = hash(M)<br>\n",
    "* Sign h to calculate the signature: s = h^d (mod n)\n"
   ]
  },
  {
   "cell_type": "code",
   "execution_count": null,
   "metadata": {},
   "outputs": [],
   "source": [
    "from cryptography.hazmat.primitives import hashes\n",
    "\n",
    "print('Message = ' + plain_text)\n",
    "digest = hashes.Hash( hashes.SHA1() )\n",
    "alice_baMessage = plain_text.encode('utf-8')\n",
    "digest.update(alice_baMessage)\n",
    "alice_hashFromMessage_bytes = digest.finalize()\n",
    "\n",
    "print('Alice: h = hash(message) 0x' + alice_hashFromMessage_bytes.hex(' ').upper())\n",
    "\n",
    "alice_hashFromMessage_long =  bytes_to_long(alice_hashFromMessage_bytes)\n",
    "alice_rsa_signature = pow(alice_hashFromMessage_long, d, n)\n",
    "\n",
    "print_bytes('Alice: RSA Signature s = 0x', long_to_bytes(alice_rsa_signature), 16)\n"
   ]
  },
  {
   "attachments": {},
   "cell_type": "markdown",
   "metadata": {},
   "source": [
    "<h2>RSA Verify- Bob performs the signature verification</h2>\n",
    "Verify is using the public key {d, n}<br>\n",
    "* Calculate the message hash: h = hash(M)<br>\n",
    "* Verify the signature: h' = s^e (mod n)<br>\n",
    "* Compare h with h' to check if the signature is valid or not"
   ]
  },
  {
   "cell_type": "code",
   "execution_count": null,
   "metadata": {},
   "outputs": [],
   "source": [
    "from cryptography.hazmat.primitives import hashes\n",
    "\n",
    "#plain_text = 'Mallory has modified the message'\n",
    "\n",
    "print('Message = ' + plain_text)\n",
    "\n",
    "#ToDo: Finalize the example ..."
   ]
  }
 ],
 "metadata": {
  "kernelspec": {
   "display_name": "Python 3",
   "language": "python",
   "name": "python3"
  },
  "language_info": {
   "codemirror_mode": {
    "name": "ipython",
    "version": 3
   },
   "file_extension": ".py",
   "mimetype": "text/x-python",
   "name": "python",
   "nbconvert_exporter": "python",
   "pygments_lexer": "ipython3",
   "version": "3.8.1"
  },
  "orig_nbformat": 4
 },
 "nbformat": 4,
 "nbformat_minor": 2
}
