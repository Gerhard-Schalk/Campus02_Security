{
 "cells": [
  {
   "attachments": {},
   "cell_type": "markdown",
   "metadata": {},
   "source": [
    "<h1>Elliptic Curve Digital Signature Algorithms (ECDSA)</h1><br>\n",
    "https://cryptography.io/en/latest/hazmat/primitives/asymmetric/ec/#elliptic-curve-signature-algorithms<br>"
   ]
  },
  {
   "attachments": {},
   "cell_type": "markdown",
   "metadata": {},
   "source": [
    "<h2>Alice signs some data ...</h2>"
   ]
  },
  {
   "cell_type": "code",
   "execution_count": null,
   "metadata": {},
   "outputs": [],
   "source": [
    "from cryptography.hazmat.primitives.asymmetric import ec\n",
    "from cryptography.hazmat.primitives import hashes\n",
    "from cryptography.hazmat.primitives.asymmetric import utils\n",
    "from cryptography.hazmat.primitives.asymmetric.utils import decode_dss_signature\n",
    "from cryptography import exceptions\n",
    "import binascii\n",
    "from print_bytes_util import print_bytes\n",
    "\n",
    "private_ec_key = ec.generate_private_key(ec.SECP256R1())\n",
    "public_ec_key = private_ec_key.public_key()\n",
    "\n",
    "data = b\"Hello World!\"\n",
    "signature = private_ec_key.sign(data, ec.ECDSA(hashes.SHA256()))\n",
    "\n",
    "print ('ECDSA Signature = \\n',binascii.b2a_hex(signature).upper())\n",
    "print(' ')\n",
    "print_bytes('ECDSA Signature = 0x', signature, 16)\n",
    "print(' ')\n",
    "\n",
    "r,s = decode_dss_signature(signature)\n",
    "print('r = ' + hex(r) )\n",
    "print('s = ' + hex(s)  )\n"
   ]
  },
  {
   "attachments": {},
   "cell_type": "markdown",
   "metadata": {},
   "source": [
    "<h2>Bob verifys the signature ...</h2>"
   ]
  },
  {
   "cell_type": "code",
   "execution_count": null,
   "metadata": {},
   "outputs": [],
   "source": [
    "#data = b\"Hello Worln!\"\n",
    "\n",
    "try:\n",
    "    public_ec_key.verify(signature, data, ec.ECDSA(hashes.SHA256()))\n",
    "    print('Signature valid: True')\n",
    "except exceptions.InvalidSignature: \n",
    "    print('Signature valid: False')\n",
    "finally:\n",
    "    pass"
   ]
  }
 ],
 "metadata": {
  "kernelspec": {
   "display_name": "Python 3",
   "language": "python",
   "name": "python3"
  },
  "language_info": {
   "codemirror_mode": {
    "name": "ipython",
    "version": 3
   },
   "file_extension": ".py",
   "mimetype": "text/x-python",
   "name": "python",
   "nbconvert_exporter": "python",
   "pygments_lexer": "ipython3",
   "version": "3.8.1"
  },
  "orig_nbformat": 4
 },
 "nbformat": 4,
 "nbformat_minor": 2
}
