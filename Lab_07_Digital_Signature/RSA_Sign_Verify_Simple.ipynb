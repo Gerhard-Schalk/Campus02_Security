{
  "metadata": {
    "kernelspec": {
      "name": "python",
      "display_name": "Python (Pyodide)",
      "language": "python"
    },
    "language_info": {
      "codemirror_mode": {
        "name": "python",
        "version": 3
      },
      "file_extension": ".py",
      "mimetype": "text/x-python",
      "name": "python",
      "nbconvert_exporter": "python",
      "pygments_lexer": "ipython3",
      "version": "3.8"
    }
  },
  "nbformat_minor": 4,
  "nbformat": 4,
  "cells": [
    {
      "cell_type": "markdown",
      "source": "<h1>RSA simple Sign/Verify textbook calcuation example</h1>",
      "metadata": {}
    },
    {
      "cell_type": "markdown",
      "source": "Define your parameter",
      "metadata": {}
    },
    {
      "cell_type": "code",
      "source": "p = 11\nq = 23\ne = 3\n# message hash: h = hash(M)\nhash_of_message = 37 ",
      "metadata": {
        "trusted": true
      },
      "outputs": [],
      "execution_count": 44
    },
    {
      "cell_type": "markdown",
      "source": "<h2>RSA Key Generation (simple textbook variant for small numbers)</h2>",
      "metadata": {}
    },
    {
      "cell_type": "code",
      "source": "#Calculate the modulus n:  n = p∙q\nn = p * q\n\n#Calculate 𝛗(𝒏)= (p-1)∙(q-1)\nphi_of_n = (p-1) * (q-1)\n\nprint(f'n = {n}')\nprint(f'phi(n) = {phi_of_n}')",
      "metadata": {
        "trusted": true
      },
      "outputs": [
        {
          "name": "stdout",
          "output_type": "stream",
          "text": "n = 253\nphi(n) = 220\n"
        }
      ],
      "execution_count": 45
    },
    {
      "cell_type": "code",
      "source": "#Calculate secret exponent 𝒅=𝒆^−𝟏 𝒎𝒐𝒅 𝛗(𝒏)\n# find d\nfor i in range (2, phi_of_n):\n    x = (e * i) % phi_of_n\n    #print(f'({e} * {i}) mod {phi_of_n} = {x}')\n    if x == 1:\n        d = i\nprint(f'd = {d}')",
      "metadata": {
        "trusted": true
      },
      "outputs": [
        {
          "name": "stdout",
          "output_type": "stream",
          "text": "d = 147\n"
        }
      ],
      "execution_count": 46
    },
    {
      "cell_type": "markdown",
      "source": "<h2>RSA Signing</h2>\nSigning is using the private key {n, d}<br>\nmessage hash: h = (M) < n<br>\nSignature: S = h^d (mod n)",
      "metadata": {},
      "attachments": {}
    },
    {
      "cell_type": "code",
      "source": "s = pow(hash_of_message,d,n)\nprint(f'signature = {s}')",
      "metadata": {
        "trusted": true
      },
      "outputs": [
        {
          "name": "stdout",
          "output_type": "stream",
          "text": "signature = 247\n"
        }
      ],
      "execution_count": 49
    },
    {
      "cell_type": "markdown",
      "source": "<h2>RSA Verifing a signature</h2>\nVerifing is using the public key {e, n}<br>\nhash':  hash_calculated = s^e (mod n)",
      "metadata": {}
    },
    {
      "cell_type": "code",
      "source": "h_from_verify = pow(s,e,n)\nprint(f'hash* = {h_from_verify}')",
      "metadata": {
        "trusted": true
      },
      "outputs": [
        {
          "name": "stdout",
          "output_type": "stream",
          "text": "hash* = 37\n"
        }
      ],
      "execution_count": 53
    },
    {
      "cell_type": "code",
      "source": "",
      "metadata": {
        "trusted": true
      },
      "outputs": [],
      "execution_count": null
    },
    {
      "cell_type": "code",
      "source": "",
      "metadata": {
        "trusted": true
      },
      "outputs": [],
      "execution_count": null
    },
    {
      "cell_type": "code",
      "source": "",
      "metadata": {
        "trusted": true
      },
      "outputs": [],
      "execution_count": null
    },
    {
      "cell_type": "code",
      "source": "",
      "metadata": {
        "trusted": true
      },
      "outputs": [],
      "execution_count": null
    }
  ]
}