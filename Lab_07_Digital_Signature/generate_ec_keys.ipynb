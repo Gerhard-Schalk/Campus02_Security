{
 "cells": [
  {
   "attachments": {},
   "cell_type": "markdown",
   "metadata": {},
   "source": [
    "<h1>Generate EC Keys</h1><br>\n",
    "https://cryptography.io/en/latest/hazmat/primitives/asymmetric/ec/#elliptic-curve-signature-algorithms<br>"
   ]
  },
  {
   "cell_type": "code",
   "execution_count": null,
   "metadata": {},
   "outputs": [],
   "source": [
    "from cryptography.hazmat.primitives.asymmetric import ec\n",
    "from cryptography.hazmat.primitives import serialization\n",
    "from cryptography import exceptions\n",
    "import binascii\n",
    "from print_bytes_util import print_bytes\n",
    "\n",
    "private_ec_key = ec.generate_private_key(ec.SECP256R1())\n",
    "public_ec_key = private_ec_key.public_key()\n",
    "\n",
    "pem = private_ec_key.private_bytes(encoding=serialization.Encoding.PEM,format=serialization.PrivateFormat.PKCS8,encryption_algorithm=serialization.NoEncryption())\n",
    "der = private_ec_key.private_bytes(encoding=serialization.Encoding.DER,format=serialization.PrivateFormat.PKCS8,encryption_algorithm=serialization.NoEncryption())\n",
    "print (\"\\nPrivate key (PEM):\\n\",pem.decode())\n",
    "print (\"Private key (DER):\\n\",binascii.b2a_hex(der).upper())\n",
    "pem = public_ec_key.public_bytes(encoding=serialization.Encoding.PEM,format=serialization.PublicFormat.SubjectPublicKeyInfo)\n",
    "der = public_ec_key.public_bytes(encoding=serialization.Encoding.DER,format=serialization.PublicFormat.SubjectPublicKeyInfo)\n",
    "print (\"\\nPublic key (PEM):\\n\",pem.decode())\n",
    "print (\"Public key (DER):\\n\",binascii.b2a_hex(der).upper())"
   ]
  }
 ],
 "metadata": {
  "kernelspec": {
   "display_name": "Python 3",
   "language": "python",
   "name": "python3"
  },
  "language_info": {
   "codemirror_mode": {
    "name": "ipython",
    "version": 3
   },
   "file_extension": ".py",
   "mimetype": "text/x-python",
   "name": "python",
   "nbconvert_exporter": "python",
   "pygments_lexer": "ipython3",
   "version": "3.8.1"
  },
  "orig_nbformat": 4
 },
 "nbformat": 4,
 "nbformat_minor": 2
}
