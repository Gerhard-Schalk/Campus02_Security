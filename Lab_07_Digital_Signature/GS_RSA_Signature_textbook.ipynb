{
 "cells": [
  {
   "attachments": {},
   "cell_type": "markdown",
   "metadata": {},
   "source": [
    "<h1>Textbook RSA</h1>"
   ]
  },
  {
   "cell_type": "code",
   "execution_count": 1,
   "metadata": {},
   "outputs": [],
   "source": [
    "from Crypto.Util.number import *\n",
    "from Crypto import Random\n",
    "import Crypto\n",
    "import binascii\n",
    "from xgcd import * \n",
    "from print_bytes_util import print_bytes"
   ]
  },
  {
   "attachments": {},
   "cell_type": "markdown",
   "metadata": {},
   "source": [
    "Task: Try different bit length and messages."
   ]
  },
  {
   "cell_type": "code",
   "execution_count": 2,
   "metadata": {},
   "outputs": [],
   "source": [
    "rsa_bit_length = 512\n",
    "plain_text = 'Hello World'"
   ]
  },
  {
   "attachments": {},
   "cell_type": "markdown",
   "metadata": {},
   "source": [
    "<h2>RSA Key Generation</h2>"
   ]
  },
  {
   "cell_type": "code",
   "execution_count": 3,
   "metadata": {},
   "outputs": [
    {
     "name": "stdout",
     "output_type": "stream",
     "text": [
      "RSA key length = 512 bits\n",
      "Message (plain text) = Hello World\n",
      "\n",
      "prime number p = 0xD0B9B863DE14CF5B0D4537711B3AFC1BBBCC3AD87ADC7E9F2126D71D34830387BBED3583ECF4146C3FA829652BB7855BF027C15EE43EB06E6BC034312D4843FF\n",
      "prime number q = 0x9BF7713CAA7D47EF675C19425B75916B74657AA9145925A3D674DC3C786BFBFFBED0169BEC7C1B0A1E0036AD3787A3BB834DAAB183E7CDC651BCEC1EED08D45B\n",
      "\n",
      "Public Key (e, n):\n",
      "  e = 0x10001\n",
      "  n = 0x7F2A3228D0BEA5D77C546AC3243889B73D1B2AF907C7191CDBD4E8406848A956D0631CC31AE5A5D541E0F39EEA8863C3DD5F66D91E787A1508CA60D9C04BCCEA551A19A8ED4C186F3B8FC977A77321C6810912FBADA0417BD5FAF48623A133C114DE6B855B081502B6FC5423CB5147EAF987D6963A1DD3202C6BA41223F757A5\n",
      "\n",
      "Private Key (d, n):\n",
      "  d = 0x44BBAAF6F2B549706A8C3A54959C559B8C54C5EA6AB0CBBB147B44B9A3643ADB68B159977F4F474E38587D7594F0F973A190F24742B7FDCCA6BEB4909DE69AAFFD06D34EC61ADF896058FF3F93D76847BCCB5B842932991E66DB779FAFDC6C6C020A0B2D5359A5C2317A363EBE50A506D1BDDC83CE54703AFCEFC099BD9B7535\n",
      "  n = 0x7F2A3228D0BEA5D77C546AC3243889B73D1B2AF907C7191CDBD4E8406848A956D0631CC31AE5A5D541E0F39EEA8863C3DD5F66D91E787A1508CA60D9C04BCCEA551A19A8ED4C186F3B8FC977A77321C6810912FBADA0417BD5FAF48623A133C114DE6B855B081502B6FC5423CB5147EAF987D6963A1DD3202C6BA41223F757A5\n",
      "\n"
     ]
    }
   ],
   "source": [
    "#Generate two large random primes, p and q, of approximately equal size \n",
    "p = Crypto.Util.number.getPrime(rsa_bit_length, randfunc=Crypto.Random.get_random_bytes)\n",
    "q = Crypto.Util.number.getPrime(rsa_bit_length, randfunc=Crypto.Random.get_random_bytes)\n",
    "\n",
    "#Calculate the modulus n:  n = p ∙ q\n",
    "n = p*q\n",
    "\n",
    "#Calculate 𝛗𝒏= (p 1) ∙(q 1)\n",
    "PHI=(p-1)*(q-1)\n",
    "\n",
    "#Choose public exponent e co prime to 𝛗𝒏and 𝐞≠±𝟏\n",
    "e=65537\n",
    "\n",
    "#Calculate secret exponent 𝒅=𝒆^−𝟏 (𝒎𝒐𝒅𝛗𝒏)\n",
    "d= xgdc(e, PHI)\n",
    "\n",
    "print(f'RSA key length = {rsa_bit_length} bits')\n",
    "print(f'Message (plain text) = {plain_text}\\n')\n",
    "\n",
    "print('prime number p = 0x' + str(hex(p))[2:].upper() )\n",
    "print('prime number q = 0x' + str(hex(q))[2:].upper() + '\\n')\n",
    "\n",
    "print('Public Key (e, n):')\n",
    "print('  e = 0x' + str(hex(e))[2:].upper() )\n",
    "print('  n = 0x' + str(hex(n))[2:].upper() + '\\n')\n",
    "\n",
    "print('Private Key (d, n):')\n",
    "print('  d = 0x' + str(hex(d))[2:].upper() )\n",
    "print('  n = 0x' + str(hex(n))[2:].upper() + '\\n')\n"
   ]
  },
  {
   "attachments": {},
   "cell_type": "markdown",
   "metadata": {},
   "source": [
    "<h2>RSA Sign - Alice generates a RSA signature</h2>\n",
    "Signing is using the private key {d, n}<br>\n",
    "* Calculate the message hash: h = hash(M)<br>\n",
    "* Sign h to calculate the signature: s = h^d (mod n)\n"
   ]
  },
  {
   "cell_type": "code",
   "execution_count": 4,
   "metadata": {},
   "outputs": [
    {
     "name": "stdout",
     "output_type": "stream",
     "text": [
      "Message = Hello World\n",
      "Alice: h = hash(message) 0x0A 4D 55 A8 D7 78 E5 02 2F AB 70 19 77 C5 D8 40 BB C4 86 D0\n",
      "Alice: RSA Signature s = 0x54 93 56 FF 88 B0 7B E6 D3 DC 7A CB F5 4F 3E 05 \n",
      "                           19 D5 72 4F 7D 12 CE F3 5A 69 49 8E B2 A5 0B F5 \n",
      "                           9E FB 79 33 D8 EA E7 21 C2 BC 0D FD E7 CC 4A 95 \n",
      "                           4E C3 3A 62 17 1F C9 A4 68 BA 96 9C C0 AA 02 78 \n",
      "                           F3 AC 8F ED 80 16 8A 21 F4 D6 98 36 CA 10 4C 07 \n",
      "                           4B F8 95 27 68 A2 3B 1E 79 47 9F FB 09 AD BF CF \n",
      "                           54 60 5B FE 4C 99 A3 09 94 60 BF 3E 2A BA 09 B3 \n",
      "                           73 2C 38 9C AF 31 DA FB 1B 4A 8B 85 30 EB C8 03 \n",
      "                           \n"
     ]
    }
   ],
   "source": [
    "from cryptography.hazmat.primitives import hashes\n",
    "\n",
    "print('Message = ' + plain_text)\n",
    "digest = hashes.Hash( hashes.SHA1() )\n",
    "alice_baMessage = plain_text.encode('utf-8')\n",
    "digest.update(alice_baMessage)\n",
    "alice_hashFromMessage_bytes = digest.finalize()\n",
    "\n",
    "print('Alice: h = hash(message) 0x' + alice_hashFromMessage_bytes.hex(' ').upper())\n",
    "\n",
    "alice_hashFromMessage_long =  bytes_to_long(alice_hashFromMessage_bytes)\n",
    "alice_rsa_signature = pow(alice_hashFromMessage_long, d, n)\n",
    "\n",
    "print_bytes('Alice: RSA Signature s = 0x', long_to_bytes(alice_rsa_signature), 16)\n"
   ]
  },
  {
   "attachments": {},
   "cell_type": "markdown",
   "metadata": {},
   "source": [
    "<h2>RSA Verify- Bob performs the signature verification</h2>\n",
    "Verify is using the public key {d, n}<br>\n",
    "* Calculate the message hash: h = hash(M)<br>\n",
    "* Verify the signature: h' = s^e (mod n)<br>\n",
    "* Compare h with h' to check if the signature is valid or not"
   ]
  },
  {
   "cell_type": "code",
   "execution_count": 5,
   "metadata": {},
   "outputs": [
    {
     "name": "stdout",
     "output_type": "stream",
     "text": [
      "Message = Hello World\n",
      "Bob: h =  hash(message) 0x0A 4D 55 A8 D7 78 E5 02 2F AB 70 19 77 C5 D8 40 \n",
      "                          BB C4 86 D0 \n",
      "Bob: h = s^e (mod n) = 0x0A 4D 55 A8 D7 78 E5 02 2F AB 70 19 77 C5 D8 40 \n",
      "                         BB C4 86 D0 \n",
      "Signature valid: True\n"
     ]
    }
   ],
   "source": [
    "from cryptography.hazmat.primitives import hashes\n",
    "\n",
    "#plain_text = 'Mallory has modified the message'\n",
    "\n",
    "print('Message = ' + plain_text)\n",
    "digest = hashes.Hash( hashes.SHA1() )\n",
    "baMessage = plain_text.encode('utf-8')\n",
    "digest.update(baMessage)\n",
    "bob_hashFromMessage_bytes = digest.finalize()\n",
    "print_bytes('Bob: h =  hash(message) 0x', bob_hashFromMessage_bytes, 16)\n",
    "\n",
    "bob_hashFromSignature_long  = pow(alice_rsa_signature, e, n)\n",
    "bob_hashFromSignature_bytes = long_to_bytes(bob_hashFromSignature_long)\n",
    "\n",
    "print_bytes('Bob: h = s^e (mod n) = 0x', bob_hashFromSignature_bytes, 16)\n",
    "\n",
    "print(\"Signature valid:\", bob_hashFromMessage_bytes == bob_hashFromSignature_bytes)"
   ]
  }
 ],
 "metadata": {
  "kernelspec": {
   "display_name": "Python 3",
   "language": "python",
   "name": "python3"
  },
  "language_info": {
   "codemirror_mode": {
    "name": "ipython",
    "version": 3
   },
   "file_extension": ".py",
   "mimetype": "text/x-python",
   "name": "python",
   "nbconvert_exporter": "python",
   "pygments_lexer": "ipython3",
   "version": "3.8.1"
  },
  "orig_nbformat": 4
 },
 "nbformat": 4,
 "nbformat_minor": 2
}
