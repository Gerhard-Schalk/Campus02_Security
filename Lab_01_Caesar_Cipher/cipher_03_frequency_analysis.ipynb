{
  "metadata": {
    "kernelspec": {
      "display_name": "Python (Pyodide)",
      "language": "python",
      "name": "python"
    },
    "language_info": {
      "codemirror_mode": {
        "name": "python",
        "version": 3
      },
      "file_extension": ".py",
      "mimetype": "text/x-python",
      "name": "python",
      "nbconvert_exporter": "python",
      "pygments_lexer": "ipython3",
      "version": "3.8"
    }
  },
  "nbformat_minor": 4,
  "nbformat": 4,
  "cells": [
    {
      "cell_type": "markdown",
      "source": "<h1>Caesar Cipher - Frequency Analysis Attack</h1><br>\nIn cryptanalysis, frequency analysis is the study of the frequency of letters or groups of letters in a ciphertext.<br>\nThe method is used as an aid to break classical ciphers.\n",
      "metadata": {}
    },
    {
      "cell_type": "code",
      "source": "import matplotlib.pylab as plt\n\n# these are the letters we are interested in when dealing with frequency-analysis\nLETTERS = 'ABCDEFGHIJKLMNOPQRSTUVWXYZ'\n\n\n# The method to do frequency analysis: \n# We just count the occurrences of the given characters\ndef frequency_analysis(text):\n \n    text = text.upper() # Convert text to upper case\n\n    # We use a Python dictionary to store the letter-frequency pair\n    letter_frequencies = {}\n\n    # Initialize the dictionary with 0 frequencies\n    for letter in LETTERS:\n        #print(letter)\n        letter_frequencies[letter] = 0\n\n    # let's consider the text we want to analyse\n    for letter in text:\n        if letter in LETTERS:\n            letter_frequencies[letter] += 1\n\n    return letter_frequencies\n\n\ndef plot_distribution(frequencies, title = 'frequency analysis'):\n        plt.title(title)\n        plt.bar(frequencies.keys(), frequencies.values())\n        plt.show()\n",
      "metadata": {
        "trusted": true
      },
      "execution_count": null,
      "outputs": []
    },
    {
      "cell_type": "markdown",
      "source": "<b>*Exercise:*</b> Run the following code to perform a frequency analysis attack. What is the value of the secret key?",
      "metadata": {}
    },
    {
      "cell_type": "code",
      "source": "\ncipher_text = 'WKH NHUFNKRIIV SULQFLSOH KROGV WKDW D FUBSWRVBVWHP VKRXOG EH VHFXUH, HYHQ LI HYHUBWKLQJ DERXW WKH VBVWHP, HAFHSW WKH NHB, LV SXEOLF NQRZOHGJH.'\n\nfreq = frequency_analysis(cipher_text)\nplot_distribution(freq, title = 'cipher text frequency analysis')\n\n",
      "metadata": {
        "trusted": true
      },
      "execution_count": null,
      "outputs": []
    }
  ]
}