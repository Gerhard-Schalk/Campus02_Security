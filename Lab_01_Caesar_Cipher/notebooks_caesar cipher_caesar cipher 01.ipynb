{
  "metadata": {
    "kernelspec": {
      "name": "python",
      "display_name": "Python (Pyodide)",
      "language": "python"
    },
    "language_info": {
      "codemirror_mode": {
        "name": "python",
        "version": 3
      },
      "file_extension": ".py",
      "mimetype": "text/x-python",
      "name": "python",
      "nbconvert_exporter": "python",
      "pygments_lexer": "ipython3",
      "version": "3.8"
    }
  },
  "nbformat_minor": 4,
  "nbformat": 4,
  "cells": [
    {
      "cell_type": "markdown",
      "source": "<h1>Caesar Cipher Encryption/Decryption</h1><br>\nCaesar encryption is a simple, insecure encryption method.<br>\nThis algorithms is used to illustrate the basic principles of a symmetric cipher.<br><br>\nThe encryption algorithm is based on shifting the plain text by a certain number of places.<br> \nIt is also known as a shift cipher and is one of the monoalphabetic ciphers.<br>\n\nThe following Python function implements the Caesar Cipher encryption algorithm:\n",
      "metadata": {}
    },
    {
      "cell_type": "code",
      "source": "def caesar_cipher_encrypt(plain_text, enc_key = 3):\n    LETTERS = \"ABCDEFGHIJKLMNOPQRSTUVWXYZ\"\n    \n    plain_text = plain_text.upper() #capitalize the message string\n    cipher_text = ''\n    m = len(LETTERS)\n    \n    #run the encryption code on each symbol in the message string\n    for c in plain_text:\n        if c in LETTERS:\n            num_c = LETTERS.find(c) # get the  number for this character\n            cipher_text += LETTERS[((num_c + enc_key) % m)]\n        else:\n            # just add the symbol without encrypting/decrypting\n            cipher_text += c\n\n    return cipher_text",
      "metadata": {
        "trusted": true
      },
      "execution_count": 1,
      "outputs": []
    },
    {
      "cell_type": "markdown",
      "source": "The following code snippet encrypts a plaintext with a key (value between 1 and 25):",
      "metadata": {}
    },
    {
      "cell_type": "code",
      "source": "plain_text = 'Hello World!'\nkey_value = 25  # value between 1 .. 25\n\ncipher_text = caesar_cipher_encrypt(plain_text,key_value)\n\nprint(cipher_text)",
      "metadata": {
        "trusted": true
      },
      "execution_count": 2,
      "outputs": [
        {
          "name": "stdout",
          "text": "GDKKN VNQKC!\n",
          "output_type": "stream"
        }
      ]
    },
    {
      "cell_type": "markdown",
      "source": "<b>*Exercise:*</b> Implement the Caesar Cipher decryption algorithm.",
      "metadata": {}
    },
    {
      "cell_type": "code",
      "source": "def caesar_cipher_decrypt(cipher_text, dec_key = 3):\n    LETTERS = \"ABCDEFGHIJKLMNOPQRSTUVWXYZ\"\n    \n    cipher_text = cipher_text.upper()  #capitalize the cipher message string\n    plain_text = ''\n    m = len(LETTERS)\n    \n    ### ToDo: Implement the Caesar Cipher decryption algorithm.\n\n    return plain_text\n",
      "metadata": {},
      "execution_count": null,
      "outputs": []
    },
    {
      "cell_type": "markdown",
      "source": "The following code snippet decrypts a ciphertext with a key (value between 1 and 25):",
      "metadata": {}
    },
    {
      "cell_type": "code",
      "source": "cipher_text = caesar_cipher_decrypt(cipher_text, key_value)\nprint(cipher_text)",
      "metadata": {
        "trusted": true
      },
      "execution_count": null,
      "outputs": []
    }
  ]
}