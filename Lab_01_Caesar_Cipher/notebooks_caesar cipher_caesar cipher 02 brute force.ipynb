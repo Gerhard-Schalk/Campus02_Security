{
  "metadata": {
    "kernelspec": {
      "name": "python",
      "display_name": "Python (Pyodide)",
      "language": "python"
    },
    "language_info": {
      "codemirror_mode": {
        "name": "python",
        "version": 3
      },
      "file_extension": ".py",
      "mimetype": "text/x-python",
      "name": "python",
      "nbconvert_exporter": "python",
      "pygments_lexer": "ipython3",
      "version": "3.8"
    }
  },
  "nbformat_minor": 4,
  "nbformat": 4,
  "cells": [
    {
      "cell_type": "markdown",
      "source": "<h1>Caesar Cipher - Brute Force Attack Example</h1><br>\nThe technique of trying every possible decryption key is called a brute-force attack.",
      "metadata": {}
    },
    {
      "cell_type": "code",
      "source": "def caesar_cipher_decrypt(cipher_text, enc_key = 3):\n    LETTERS = \"ABCDEFGHIJKLMNOPQRSTUVWXYZ\"\n    \n    #capitalize the message string\n    cipher_text = cipher_text.upper()\n\n    plain_text = ''\n       \n    m = len(LETTERS)\n    \n     #run the decryption code on each symbol in the message string\n    for c in cipher_text:\n        if c in LETTERS:\n            # get the  number for this character\n            num_c = LETTERS.find(c)\n            plain_text += LETTERS[((num_c - enc_key) % m)]\n        else:\n            # just add the symbol without encrypting/decrypting\n            plain_text += c\n\n    return plain_text",
      "metadata": {
        "trusted": true
      },
      "execution_count": null,
      "outputs": []
    },
    {
      "cell_type": "markdown",
      "source": "Brute force attack example:",
      "metadata": {}
    },
    {
      "cell_type": "markdown",
      "source": "cipher_text = 'KYV BVITBYFWWJ'J GIZETZGCV YFCUJ KYRK R TIPGKFJPJKVD JYFLCU SV JVTLIV, VMVE ZW VMVIPKYZEX RSFLK KYV JPJKVD, VOTVGK KYV BVP, ZJ GLSCZT BEFNCVUXV.'\n\n<b>*Exercise:*</b>Run the following code to perform a brute force attack. What is the value of the secret key?",
      "metadata": {}
    },
    {
      "cell_type": "code",
      "source": "cipher_text = r'KYV BVITBYFWWJ GIZETZGCV YFCUJ KYRK R TIPGKFJPJKVD JYFLCU SV JVTLIV, VMVE ZW VMVIPKYZEX RSFLK KYV JPJKVD, VOTVGK KYV BVP, ZJ GLSCZT BEFNCVUXV.J'\n\nfor decryption_key in range(1,26):\n    plain_text = caesar_cipher_decrypt(cipher_text, decryption_key)\n    print(f'key = {decryption_key:02}:  ' + plain_text)\n    ",
      "metadata": {
        "trusted": true
      },
      "execution_count": null,
      "outputs": []
    }
  ]
}