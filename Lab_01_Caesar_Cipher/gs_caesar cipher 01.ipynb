{
  "cells": [
    {
      "attachments": {},
      "cell_type": "markdown",
      "metadata": {},
      "source": [
        "<h1>Caesar Cipher Encryption/Decryption</h1><br>\n",
        "Caesar encryption is a simple, insecure encryption method.<br>\n",
        "This algorithms is used to illustrate the basic principles of a symmetric cipher.<br><br>\n",
        "The encryption algorithm is based on shifting the plain text by a certain number of places.<br> \n",
        "It is also known as a shift cipher and is one of the monoalphabetic ciphers.<br>\n",
        "\n",
        "The following Python function implements the Caesar Cipher encryption algorithm:\n"
      ]
    },
    {
      "cell_type": "code",
      "execution_count": 1,
      "metadata": {
        "trusted": true
      },
      "outputs": [],
      "source": [
        "def caesar_cipher_encrypt(plain_text, enc_key = 3):\n",
        "    LETTERS = \"ABCDEFGHIJKLMNOPQRSTUVWXYZ\"\n",
        "    \n",
        "    plain_text = plain_text.upper() #capitalize the message string\n",
        "    cipher_text = ''\n",
        "    m = len(LETTERS)\n",
        "    \n",
        "    #run the encryption code on each symbol in the message string\n",
        "    for c in plain_text:\n",
        "        if c in LETTERS:\n",
        "            # get the  number for this character\n",
        "            num_c = LETTERS.find(c)\n",
        "            cipher_text += LETTERS[((num_c + enc_key) % m)]\n",
        "        else:\n",
        "            # just add the symbol without encrypting/decrypting\n",
        "            cipher_text += c\n",
        "\n",
        "    return cipher_text"
      ]
    },
    {
      "attachments": {},
      "cell_type": "markdown",
      "metadata": {},
      "source": [
        "The following code snippet encrypts a plaintext with a key (value between 1 and 25):"
      ]
    },
    {
      "cell_type": "code",
      "execution_count": 2,
      "metadata": {
        "trusted": true
      },
      "outputs": [
        {
          "name": "stdout",
          "output_type": "stream",
          "text": [
            "GDKKN VNQKC!\n"
          ]
        }
      ],
      "source": [
        "plain_text = 'Hello World!'\n",
        "key_value = 25  # value between 1 .. 25\n",
        "\n",
        "cipher_text = caesar_cipher_encrypt(plain_text,key_value)\n",
        "\n",
        "print(cipher_text)"
      ]
    },
    {
      "attachments": {},
      "cell_type": "markdown",
      "metadata": {},
      "source": [
        "<b>*Exercise:*</b> Implement the Caesar Cipher decryption algorithm."
      ]
    },
    {
      "cell_type": "code",
      "execution_count": 3,
      "metadata": {
        "trusted": true
      },
      "outputs": [],
      "source": [
        "def caesar_cipher_decrypt(cipher_text, dec_key = 3):\n",
        "    LETTERS = \"ABCDEFGHIJKLMNOPQRSTUVWXYZ\"\n",
        "    \n",
        "    cipher_text = cipher_text.upper()  #capitalize the cipher message string\n",
        "    plain_text = ''\n",
        "    m = len(LETTERS)\n",
        "    \n",
        "     #run the decryption code on each symbol in the message string\n",
        "    for c in cipher_text:\n",
        "        if c in LETTERS:\n",
        "            # get the  number for this character\n",
        "            num_c = LETTERS.find(c)\n",
        "            plain_text += LETTERS[((num_c - dec_key) % m)]\n",
        "        else:\n",
        "            # just add the symbol without encrypting/decrypting\n",
        "            plain_text += c\n",
        "\n",
        "    return plain_text"
      ]
    },
    {
      "cell_type": "code",
      "execution_count": 4,
      "metadata": {
        "trusted": true
      },
      "outputs": [
        {
          "name": "stdout",
          "output_type": "stream",
          "text": [
            "HELLO WORLD!\n"
          ]
        },
        {
          "ename": "",
          "evalue": "",
          "output_type": "error",
          "traceback": [
            "\u001b[1;31mThe Kernel crashed while executing code in the the current cell or a previous cell. Please review the code in the cell(s) to identify a possible cause of the failure. Click <a href='https://aka.ms/vscodeJupyterKernelCrash'>here</a> for more info. View Jupyter <a href='command:jupyter.viewOutput'>log</a> for further details."
          ]
        }
      ],
      "source": [
        "cipher_text = caesar_cipher_decrypt(cipher_text, key_value)\n",
        "print(cipher_text)"
      ]
    }
  ],
  "metadata": {
    "kernelspec": {
      "display_name": "Python 3",
      "language": "python",
      "name": "python3"
    },
    "language_info": {
      "codemirror_mode": {
        "name": "ipython",
        "version": 3
      },
      "file_extension": ".py",
      "mimetype": "text/x-python",
      "name": "python",
      "nbconvert_exporter": "python",
      "pygments_lexer": "ipython3",
      "version": "3.8.1"
    }
  },
  "nbformat": 4,
  "nbformat_minor": 4
}
