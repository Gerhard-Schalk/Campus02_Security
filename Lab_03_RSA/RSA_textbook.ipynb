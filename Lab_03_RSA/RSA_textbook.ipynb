{
 "cells": [
  {
   "attachments": {},
   "cell_type": "markdown",
   "metadata": {},
   "source": [
    "<h1>Textbook RSA</h1>"
   ]
  },
  {
   "cell_type": "code",
   "execution_count": 46,
   "metadata": {},
   "outputs": [],
   "source": [
    "from Crypto.Util.number import *\n",
    "from Crypto import Random\n",
    "import Crypto\n",
    "import binascii\n",
    "from xgcd import * "
   ]
  },
  {
   "attachments": {},
   "cell_type": "markdown",
   "metadata": {},
   "source": [
    "Task: Try different bit length and messages."
   ]
  },
  {
   "cell_type": "code",
   "execution_count": 47,
   "metadata": {},
   "outputs": [],
   "source": [
    "rsa_bit_length = 512\n",
    "plain_text = 'Hello World'"
   ]
  },
  {
   "attachments": {},
   "cell_type": "markdown",
   "metadata": {},
   "source": [
    "<h2>RSA Key Generation</h2>"
   ]
  },
  {
   "cell_type": "code",
   "execution_count": 48,
   "metadata": {},
   "outputs": [
    {
     "name": "stdout",
     "output_type": "stream",
     "text": [
      "RSA key length = 512 bits\n",
      "Message (plain text) = Hello World\n",
      "\n",
      "prime number p = 0xCFE78E5E04BEEED9A351570DCB2BA4F647ABFAF34F82B09EB448F27646F37E08024D6F13A3DF1178BBE9F7AE9C2F2B94ABE72FC440B3C0F4F8389C165DCB3605\n",
      "prime number q = 0xCB2246265AD9F04298EDB738B9CA5BA7803EB79888C05228306C09EE786A527D1E6689212D1650DC6FE16836A4A8D2292AC3EF48AB66AAB5EACA4DE9566BCC85\n",
      "\n",
      "Public Key (e, n):\n",
      "  e = 0x10001\n",
      "  n = 0xA4F8739DED5546771DCAB1006707B88CCA38B501E677E59703E3D31614654EEA1482B764EBB49C0D9805BA953E6299BF6436353A31632D790A9419212077B988068C34ED9F3ABD13588681AD952EB2E319E1BE3BBC5FDD9CDAE2DAD95F557B5372229BCAA2F02E082E8B13C530BFA05AD865B9FD7A5248FE81CC0DFEEBB60C99\n",
      "\n",
      "Private Key (d, n):\n",
      "  d = 0x66FAA8C176BB7AA734B3A85605FAADDB4508AD0528A6C36CC782D9EBB8839D0546146B02D69801AA02B1E0CCF50A7BCB1B753338C64790C534334A94813DFB53CB9CB12E42087B149C5485D75A2AEA2D9782CD8AD8ACA276599C3C7734BC57A53EF3FFADB04C0C080CB93A4199F250720DF83C6BD97B49EFBEF8F43D869908E1\n",
      "  n = 0xA4F8739DED5546771DCAB1006707B88CCA38B501E677E59703E3D31614654EEA1482B764EBB49C0D9805BA953E6299BF6436353A31632D790A9419212077B988068C34ED9F3ABD13588681AD952EB2E319E1BE3BBC5FDD9CDAE2DAD95F557B5372229BCAA2F02E082E8B13C530BFA05AD865B9FD7A5248FE81CC0DFEEBB60C99\n",
      "\n"
     ]
    }
   ],
   "source": [
    "#Generate two large random primes, p and q, of approximately equal size \n",
    "p = Crypto.Util.number.getPrime(rsa_bit_length, randfunc=Crypto.Random.get_random_bytes)\n",
    "q = Crypto.Util.number.getPrime(rsa_bit_length, randfunc=Crypto.Random.get_random_bytes)\n",
    "\n",
    "#Calculate the modulus n:  n = p ∙ q\n",
    "n = p*q\n",
    "\n",
    "#Calculate 𝛗𝒏= (p 1) ∙(q 1)\n",
    "PHI=(p-1)*(q-1)\n",
    "\n",
    "#Choose public exponent e co prime to 𝛗𝒏and 𝐞≠±𝟏\n",
    "e=65537\n",
    "\n",
    "#Calculate secret exponent 𝒅=𝒆^−𝟏 (𝒎𝒐𝒅𝛗𝒏)\n",
    "d= xgdc(e, PHI)\n",
    "\n",
    "print(f'RSA key length = {rsa_bit_length} bits')\n",
    "print(f'Message (plain text) = {plain_text}\\n')\n",
    "\n",
    "print('prime number p = 0x' + str(hex(p))[2:].upper() )\n",
    "print('prime number q = 0x' + str(hex(q))[2:].upper() + '\\n')\n",
    "\n",
    "print('Public Key (e, n):')\n",
    "print('  e = 0x' + str(hex(e))[2:].upper() )\n",
    "print('  n = 0x' + str(hex(n))[2:].upper() + '\\n')\n",
    "\n",
    "print('Private Key (d, n):')\n",
    "print('  d = 0x' + str(hex(d))[2:].upper() )\n",
    "print('  n = 0x' + str(hex(n))[2:].upper() + '\\n')\n"
   ]
  },
  {
   "attachments": {},
   "cell_type": "markdown",
   "metadata": {},
   "source": [
    "<h2>RSA Encryption</h2>\n",
    "Encryption is using the public key {e, n}<br>\n",
    "Plaintext: M < n<br>\n",
    "Ciphertext: C = M^e (mod n)"
   ]
  },
  {
   "cell_type": "code",
   "execution_count": 50,
   "metadata": {},
   "outputs": [
    {
     "name": "stdout",
     "output_type": "stream",
     "text": [
      "Ciphertext C = 0x67D4AF63404D4AB96CEFDE7F27EA041DC39D0741605D5CB96902AA9B4C06EC933D0380C71AFCBC595ADB075FE7A3A1B769325D521637EADF26432D25A8C4633FC0959AB6AFD6626F60947B98574E6CC1E7ED0B83DE9BA73B5FA9F63CF6A7ABF73D4470B270539136B749D3FD03FA6D3D9930EC1756A47A6651F2515230BD6D61\n"
     ]
    }
   ],
   "source": [
    "M =  bytes_to_long(plain_text.encode('utf-8'))\n",
    "C = pow(M, e, n)\n",
    "\n",
    "print('Ciphertext C = 0x' + str(hex(C))[2:].upper() )"
   ]
  },
  {
   "attachments": {},
   "cell_type": "markdown",
   "metadata": {},
   "source": [
    "<h2>RSA Decryption</h2>\n",
    "Decryption is using the private key {d, n}<br>\n",
    "Plaintext:  M = C^d (mod n)"
   ]
  },
  {
   "cell_type": "code",
   "execution_count": 53,
   "metadata": {},
   "outputs": [
    {
     "name": "stdout",
     "output_type": "stream",
     "text": [
      "Plaintext P = 0x48656C6C6F20576F726C64\n",
      "Plain message = b'Hello World'\n"
     ]
    }
   ],
   "source": [
    "P = pow(C, d, n)\n",
    "print('Plaintext P = 0x' + str(hex(P))[2:].upper() )\n",
    "print('Plain message = ' +   str(long_to_bytes(P)) )"
   ]
  }
 ],
 "metadata": {
  "kernelspec": {
   "display_name": "Python 3",
   "language": "python",
   "name": "python3"
  },
  "language_info": {
   "codemirror_mode": {
    "name": "ipython",
    "version": 3
   },
   "file_extension": ".py",
   "mimetype": "text/x-python",
   "name": "python",
   "nbconvert_exporter": "python",
   "pygments_lexer": "ipython3",
   "version": "3.8.1"
  },
  "orig_nbformat": 4
 },
 "nbformat": 4,
 "nbformat_minor": 2
}
