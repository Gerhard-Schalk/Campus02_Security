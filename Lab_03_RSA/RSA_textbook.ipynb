{
 "cells": [
  {
   "attachments": {},
   "cell_type": "markdown",
   "metadata": {},
   "source": [
    "<h1>Textbook RSA</h1>"
   ]
  },
  {
   "cell_type": "code",
   "execution_count": null,
   "metadata": {},
   "outputs": [],
   "source": [
    "from Crypto.Util.number import *\n",
    "from Crypto import Random\n",
    "import Crypto\n",
    "import binascii\n",
    "from xgcd import * "
   ]
  },
  {
   "attachments": {},
   "cell_type": "markdown",
   "metadata": {},
   "source": [
    "Task: Try different bit length and messages."
   ]
  },
  {
   "cell_type": "code",
   "execution_count": null,
   "metadata": {},
   "outputs": [],
   "source": [
    "rsa_bit_length = 16\n",
    "plain_text = 'Hello World'"
   ]
  },
  {
   "attachments": {},
   "cell_type": "markdown",
   "metadata": {},
   "source": [
    "<h2>RSA Key Generation</h2>"
   ]
  },
  {
   "cell_type": "code",
   "execution_count": null,
   "metadata": {},
   "outputs": [],
   "source": [
    "#Generate two large random primes, p and q, of approximately equal size \n",
    "p = Crypto.Util.number.getPrime(rsa_bit_length, randfunc=Crypto.Random.get_random_bytes)\n",
    "q = Crypto.Util.number.getPrime(rsa_bit_length, randfunc=Crypto.Random.get_random_bytes)\n",
    "\n",
    "#Calculate the modulus n:  n = p ∙ q\n",
    "n = p*q\n",
    "\n",
    "#Calculate 𝛗𝒏= (p 1) ∙(q 1)\n",
    "PHI=(p-1)*(q-1)\n",
    "\n",
    "#Choose public exponent e co prime to 𝛗𝒏and 𝐞≠±𝟏\n",
    "e=65537\n",
    "\n",
    "#Calculate secret exponent 𝒅=𝒆^−𝟏 (𝒎𝒐𝒅𝛗𝒏)\n",
    "d= xgdc(e, PHI)\n",
    "\n",
    "print(f'RSA key length = {rsa_bit_length} bits')\n",
    "print(f'Message (plain text) = {plain_text}\\n')\n",
    "\n",
    "print('prime number p = 0x' + str(hex(p))[2:].upper() )\n",
    "print('prime number q = 0x' + str(hex(q))[2:].upper() + '\\n')\n",
    "\n",
    "print('Public Key (e, n):')\n",
    "print('  e = 0x' + str(hex(e))[2:].upper() )\n",
    "print('  n = 0x' + str(hex(n))[2:].upper() + '\\n')\n",
    "\n",
    "print('Private Key (d, n):')\n",
    "print('  d = 0x' + str(hex(d))[2:].upper() )\n",
    "print('  n = 0x' + str(hex(n))[2:].upper() + '\\n')\n"
   ]
  },
  {
   "attachments": {},
   "cell_type": "markdown",
   "metadata": {},
   "source": [
    "<h2>RSA Encryption</h2>\n",
    "Encryption is using the public key {e, n}<br>\n",
    "Plaintext: M < n<br>\n",
    "Ciphertext: C = M^e (mod n)"
   ]
  },
  {
   "cell_type": "code",
   "execution_count": null,
   "metadata": {},
   "outputs": [],
   "source": [
    "M =  bytes_to_long(plain_text.encode('utf-8'))\n",
    "C = pow(M, e, n)\n",
    "\n",
    "print('Ciphertext C = 0x' + str(hex(C))[2:].upper() )"
   ]
  },
  {
   "attachments": {},
   "cell_type": "markdown",
   "metadata": {},
   "source": [
    "<h2>RSA Decryption</h2>\n",
    "Decryption is using the private key {d, n}<br>\n",
    "Plaintext:  M = C^d (mod n)"
   ]
  },
  {
   "cell_type": "code",
   "execution_count": null,
   "metadata": {},
   "outputs": [],
   "source": [
    "P = pow(C, d, n)\n",
    "print('Plaintext P = 0x' + str(hex(P))[2:].upper() )\n",
    "print('Plain message = ' +   str(long_to_bytes(P)) )"
   ]
  }
 ],
 "metadata": {
  "kernelspec": {
   "display_name": "Python 3",
   "language": "python",
   "name": "python3"
  },
  "language_info": {
   "codemirror_mode": {
    "name": "ipython",
    "version": 3
   },
   "file_extension": ".py",
   "mimetype": "text/x-python",
   "name": "python",
   "nbconvert_exporter": "python",
   "pygments_lexer": "ipython3",
   "version": "3.8.1"
  },
  "orig_nbformat": 4
 },
 "nbformat": 4,
 "nbformat_minor": 2
}
