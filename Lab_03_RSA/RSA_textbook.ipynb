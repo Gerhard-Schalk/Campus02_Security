{
  "metadata": {
    "kernelspec": {
      "name": "python",
      "display_name": "Python (Pyodide)",
      "language": "python"
    },
    "language_info": {
      "codemirror_mode": {
        "name": "python",
        "version": 3
      },
      "file_extension": ".py",
      "mimetype": "text/x-python",
      "name": "python",
      "nbconvert_exporter": "python",
      "pygments_lexer": "ipython3",
      "version": "3.8"
    }
  },
  "nbformat_minor": 4,
  "nbformat": 4,
  "cells": [
    {
      "cell_type": "markdown",
      "source": "<h1>Textbook RSA</h1>",
      "metadata": {}
    },
    {
      "cell_type": "code",
      "source": "from Crypto.Util.number import *\nfrom Crypto import Random\nimport Crypto\nimport binascii\nfrom xgcd import * ",
      "metadata": {
        "trusted": true
      },
      "execution_count": null,
      "outputs": []
    },
    {
      "cell_type": "markdown",
      "source": "Task: Try different bit length and messages.",
      "metadata": {}
    },
    {
      "cell_type": "code",
      "source": "rsa_bit_length = 1024\nplain_text = 'Hello World'",
      "metadata": {
        "trusted": true
      },
      "execution_count": null,
      "outputs": []
    },
    {
      "cell_type": "markdown",
      "source": "<h2>RSA Key Generation</h2>",
      "metadata": {}
    },
    {
      "cell_type": "code",
      "source": "#Generate two large random primes, p and q, of approximately equal size \np = Crypto.Util.number.getPrime(rsa_bit_length//2, randfunc=Crypto.Random.get_random_bytes)\nq = Crypto.Util.number.getPrime(rsa_bit_length//2, randfunc=Crypto.Random.get_random_bytes)\n\n#Calculate the modulus n:  n = p ∙ q\nn = p*q\n\n#Calculate 𝛗𝒏= (p 1) ∙(q 1)\nPHI=(p-1)*(q-1)\n\n#Choose public exponent e co prime to 𝛗𝒏and 𝐞≠±𝟏\ne=65537\n\n#Calculate secret exponent 𝒅=𝒆^−𝟏 (𝒎𝒐𝒅𝛗𝒏)\nd= xgdc(e, PHI)\n\nprint(f'RSA key length = {rsa_bit_length} bits')\nprint(f'Message (plain text) = {plain_text}\\n')\n\nprint('prime number p = 0x' + str(hex(p))[2:].upper() )\nprint('prime number q = 0x' + str(hex(q))[2:].upper() + '\\n')\n\nprint('Public Key (e, n):')\nprint('  e = 0x' + str(hex(e))[2:].upper() )\nprint('  n = 0x' + str(hex(n))[2:].upper() + '\\n')\n\nprint('Private Key (d, n):')\nprint('  d = 0x' + str(hex(d))[2:].upper() )\nprint('  n = 0x' + str(hex(n))[2:].upper() + '\\n')\n",
      "metadata": {
        "trusted": true
      },
      "execution_count": null,
      "outputs": []
    },
    {
      "cell_type": "markdown",
      "source": "<h2>RSA Encryption</h2>\nEncryption is using the public key {e, n}<br>\nPlaintext: M < n<br>\nCiphertext: C = M^e (mod n)",
      "metadata": {}
    },
    {
      "cell_type": "code",
      "source": "M =  bytes_to_long(plain_text.encode('utf-8'))\nC = pow(M, e, n)\n\nprint('Ciphertext C = 0x' + str(hex(C))[2:].upper() )",
      "metadata": {
        "trusted": true
      },
      "execution_count": null,
      "outputs": []
    },
    {
      "cell_type": "markdown",
      "source": "<h2>RSA Decryption</h2>\nDecryption is using the private key {d, n}<br>\nPlaintext:  M = C^d (mod n)",
      "metadata": {}
    },
    {
      "cell_type": "code",
      "source": "P = pow(C, d, n)\nprint('Plaintext P = 0x' + str(hex(P))[2:].upper() )\nprint('Plain message = ' +   str(long_to_bytes(P)) )",
      "metadata": {
        "trusted": true
      },
      "execution_count": null,
      "outputs": []
    }
  ]
}