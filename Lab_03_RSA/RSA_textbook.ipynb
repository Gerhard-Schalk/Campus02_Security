{
  "metadata": {
    "kernelspec": {
      "name": "python",
      "display_name": "Python (Pyodide)",
      "language": "python"
    },
    "language_info": {
      "codemirror_mode": {
        "name": "python",
        "version": 3
      },
      "file_extension": ".py",
      "mimetype": "text/x-python",
      "name": "python",
      "nbconvert_exporter": "python",
      "pygments_lexer": "ipython3",
      "version": "3.8"
    }
  },
  "nbformat_minor": 4,
  "nbformat": 4,
  "cells": [
    {
      "cell_type": "markdown",
      "source": "<h1>Textbook RSA</h1>",
      "metadata": {}
    },
    {
      "cell_type": "code",
      "source": "from Crypto.Util.number import *\nfrom Crypto import Random\nimport Crypto\nimport binascii\nfrom xgcd import * ",
      "metadata": {
        "trusted": true
      },
      "execution_count": 14,
      "outputs": []
    },
    {
      "cell_type": "markdown",
      "source": "Task: Try different bit length and messages.",
      "metadata": {}
    },
    {
      "cell_type": "code",
      "source": "rsa_bit_length = 1024\nplain_text = 'Hello World'",
      "metadata": {
        "trusted": true
      },
      "execution_count": 15,
      "outputs": []
    },
    {
      "cell_type": "markdown",
      "source": "<h2>RSA Key Generation</h2>",
      "metadata": {}
    },
    {
      "cell_type": "code",
      "source": "#Generate two large random primes, p and q, of approximately equal size \np = Crypto.Util.number.getPrime(rsa_bit_length//2, randfunc=Crypto.Random.get_random_bytes)\nq = Crypto.Util.number.getPrime(rsa_bit_length//2, randfunc=Crypto.Random.get_random_bytes)\n\n#Calculate the modulus n:  n = p ∙ q\nn = p*q\n\n#Calculate 𝛗𝒏= (p 1) ∙(q 1)\nPHI=(p-1)*(q-1)\n\n#Choose public exponent e co prime to 𝛗𝒏and 𝐞≠±𝟏\ne=65537\n\n#Calculate secret exponent 𝒅=𝒆^−𝟏 (𝒎𝒐𝒅𝛗𝒏)\nd= xgdc(e, PHI)\n\nprint(f'RSA key length = {rsa_bit_length} bits')\nprint(f'Message (plain text) = {plain_text}\\n')\n\nprint('prime number p = 0x' + str(hex(p))[2:].upper() )\nprint('prime number q = 0x' + str(hex(q))[2:].upper() + '\\n')\n\nprint('Public Key (e, n):')\nprint('  e = 0x' + str(hex(e))[2:].upper() )\nprint('  n = 0x' + str(hex(n))[2:].upper() + '\\n')\n\nprint('Private Key (d, n):')\nprint('  d = 0x' + str(hex(d))[2:].upper() )\nprint('  n = 0x' + str(hex(n))[2:].upper() + '\\n')\n",
      "metadata": {
        "trusted": true
      },
      "execution_count": 17,
      "outputs": [
        {
          "name": "stdout",
          "text": "RSA key length = 1024 bits\nMessage (plain text) = Hello World\n\nprime number p = 0x916F275D55D1F8EF9B6D0E02976D8B1AD93A9DEAF9BE499FE0EF1505EB6120C381F40926D9C89C5625CF168B1269C4635562B9CE874303F5383D55B42989F737\nprime number q = 0x8EE97442552465CB69CF76482C5E493E3EB328C36D8A15E17611CCAFCE7E1AD52C6819707022012E4BBC4A09F53D16E166DE1F1B160A2BFA97F668A05A83A615\n\nPublic Key (e, n):\n  e = 0x10001\n  n = 0x5130480CA66A9AABAFA0FA807B1DA55651EE5E058BAC17203F7129C3E2CA95C799CB722C27CC2917B69DC37D3A1531ECE59B505D6E2EDCA1D5ED06B547FE7D8CD62F539DF9A4DF352845ECEE0C363C1A48D84D515C6E677402885E91A9B3B4577C45A1E79DA7B457A286DA714D10D6505B356C49998062AE96E97799B5C3F183\n\nPrivate Key (d, n):\n  d = 0x202057D251A3CB72767BDFC4297390B2389777330092E74FC66AF418E44C3FBA8CFBF940C9BABAE3FC4A2F4A054ACFC7AB0FAB5C5D3643EDF225E9CAA0236EF072D2F559B72ECBFE0891378BAD2315CD579AE60DE3ADD9E547C4C43E8F876704319CDCD91F59AA8785516D66213D8FAE8886C52E6D30A13AE68C903476386CD9\n  n = 0x5130480CA66A9AABAFA0FA807B1DA55651EE5E058BAC17203F7129C3E2CA95C799CB722C27CC2917B69DC37D3A1531ECE59B505D6E2EDCA1D5ED06B547FE7D8CD62F539DF9A4DF352845ECEE0C363C1A48D84D515C6E677402885E91A9B3B4577C45A1E79DA7B457A286DA714D10D6505B356C49998062AE96E97799B5C3F183\n\n",
          "output_type": "stream"
        }
      ]
    },
    {
      "cell_type": "markdown",
      "source": "<h2>RSA Encryption</h2>\nEncryption is using the public key {e, n}<br>\nPlaintext: M < n<br>\nCiphertext: C = M^e (mod n)",
      "metadata": {}
    },
    {
      "cell_type": "code",
      "source": "M =  bytes_to_long(plain_text.encode('utf-8'))\nC = pow(M, e, n)\n\nprint('Ciphertext C = 0x' + str(hex(C))[2:].upper() )",
      "metadata": {
        "trusted": true
      },
      "execution_count": 18,
      "outputs": [
        {
          "name": "stdout",
          "text": "Ciphertext C = 0x119F4B4F9FCD678502D929A7895E06FAAE763003CB8F0528318EC439418A7F94FE97434073392815186C73C4387634A0E3C47B6D2406C7F032D7EA35EE249C413D933D179425FB27962B225A4D8770FCDEE95CF4C7370307700A84738720D5E0E324B58BC4564B613E9DC80CA7B3151D03CA04DC33A4D590CE367B25189AAD27\n",
          "output_type": "stream"
        }
      ]
    },
    {
      "cell_type": "markdown",
      "source": "<h2>RSA Decryption</h2>\nDecryption is using the private key {d, n}<br>\nPlaintext:  M = C^d (mod n)",
      "metadata": {}
    },
    {
      "cell_type": "code",
      "source": "P = pow(C, d, n)\nprint('Plaintext P = 0x' + str(hex(P))[2:].upper() )\nprint('Plain message = ' +   str(long_to_bytes(P)) )",
      "metadata": {
        "trusted": true
      },
      "execution_count": 19,
      "outputs": [
        {
          "name": "stdout",
          "text": "Plaintext P = 0x48656C6C6F20576F726C64\nPlain message = b'Hello World'\n",
          "output_type": "stream"
        }
      ]
    }
  ]
}