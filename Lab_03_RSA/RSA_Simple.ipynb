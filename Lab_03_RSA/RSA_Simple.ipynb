{
  "metadata": {
    "kernelspec": {
      "name": "python",
      "display_name": "Python (Pyodide)",
      "language": "python"
    },
    "language_info": {
      "codemirror_mode": {
        "name": "python",
        "version": 3
      },
      "file_extension": ".py",
      "mimetype": "text/x-python",
      "name": "python",
      "nbconvert_exporter": "python",
      "pygments_lexer": "ipython3",
      "version": "3.8"
    }
  },
  "nbformat_minor": 4,
  "nbformat": 4,
  "cells": [
    {
      "cell_type": "markdown",
      "source": "<h1>RSA simple textbook calcuation example</h1>",
      "metadata": {}
    },
    {
      "cell_type": "markdown",
      "source": "Define your parameter",
      "metadata": {}
    },
    {
      "cell_type": "code",
      "source": "p = 5\nq = 21\ne = 3\nmessage = 8",
      "metadata": {
        "trusted": true
      },
      "outputs": [],
      "execution_count": 20
    },
    {
      "cell_type": "markdown",
      "source": "<h2>RSA Key Generation (simple textbook variant for small numbers)</h2>",
      "metadata": {}
    },
    {
      "cell_type": "code",
      "source": "#Calculate the modulus n:  n = p∙q\nn = p * q\n\n#Calculate 𝛗(𝒏)= (p-1)∙(q-1)\nphi_of_n = (p-1) * (q-1)\n\nprint(f'n = {n}')\nprint(f'phi(n) = {phi_of_n}')",
      "metadata": {
        "trusted": true
      },
      "outputs": [
        {
          "name": "stdout",
          "text": "n = 105\nphi(n) = 80\n",
          "output_type": "stream"
        }
      ],
      "execution_count": 21
    },
    {
      "cell_type": "code",
      "source": "#Calculate secret exponent 𝒅=𝒆^−𝟏 𝒎𝒐𝒅 𝛗(𝒏)\n# find d\nfor i in range (2, phi_of_n):\n    x = (e * i) % phi_of_n\n    print(f'({e} * {i}) mod {phi_of_n} = {x}')\n    if x == 1:\n        d = i\nprint(f'd = {d}')",
      "metadata": {
        "trusted": true
      },
      "outputs": [
        {
          "name": "stdout",
          "text": "(3 * 2) mod 80 = 6\n(3 * 3) mod 80 = 9\n(3 * 4) mod 80 = 12\n(3 * 5) mod 80 = 15\n(3 * 6) mod 80 = 18\n(3 * 7) mod 80 = 21\n(3 * 8) mod 80 = 24\n(3 * 9) mod 80 = 27\n(3 * 10) mod 80 = 30\n(3 * 11) mod 80 = 33\n(3 * 12) mod 80 = 36\n(3 * 13) mod 80 = 39\n(3 * 14) mod 80 = 42\n(3 * 15) mod 80 = 45\n(3 * 16) mod 80 = 48\n(3 * 17) mod 80 = 51\n(3 * 18) mod 80 = 54\n(3 * 19) mod 80 = 57\n(3 * 20) mod 80 = 60\n(3 * 21) mod 80 = 63\n(3 * 22) mod 80 = 66\n(3 * 23) mod 80 = 69\n(3 * 24) mod 80 = 72\n(3 * 25) mod 80 = 75\n(3 * 26) mod 80 = 78\n(3 * 27) mod 80 = 1\n(3 * 28) mod 80 = 4\n(3 * 29) mod 80 = 7\n(3 * 30) mod 80 = 10\n(3 * 31) mod 80 = 13\n(3 * 32) mod 80 = 16\n(3 * 33) mod 80 = 19\n(3 * 34) mod 80 = 22\n(3 * 35) mod 80 = 25\n(3 * 36) mod 80 = 28\n(3 * 37) mod 80 = 31\n(3 * 38) mod 80 = 34\n(3 * 39) mod 80 = 37\n(3 * 40) mod 80 = 40\n(3 * 41) mod 80 = 43\n(3 * 42) mod 80 = 46\n(3 * 43) mod 80 = 49\n(3 * 44) mod 80 = 52\n(3 * 45) mod 80 = 55\n(3 * 46) mod 80 = 58\n(3 * 47) mod 80 = 61\n(3 * 48) mod 80 = 64\n(3 * 49) mod 80 = 67\n(3 * 50) mod 80 = 70\n(3 * 51) mod 80 = 73\n(3 * 52) mod 80 = 76\n(3 * 53) mod 80 = 79\n(3 * 54) mod 80 = 2\n(3 * 55) mod 80 = 5\n(3 * 56) mod 80 = 8\n(3 * 57) mod 80 = 11\n(3 * 58) mod 80 = 14\n(3 * 59) mod 80 = 17\n(3 * 60) mod 80 = 20\n(3 * 61) mod 80 = 23\n(3 * 62) mod 80 = 26\n(3 * 63) mod 80 = 29\n(3 * 64) mod 80 = 32\n(3 * 65) mod 80 = 35\n(3 * 66) mod 80 = 38\n(3 * 67) mod 80 = 41\n(3 * 68) mod 80 = 44\n(3 * 69) mod 80 = 47\n(3 * 70) mod 80 = 50\n(3 * 71) mod 80 = 53\n(3 * 72) mod 80 = 56\n(3 * 73) mod 80 = 59\n(3 * 74) mod 80 = 62\n(3 * 75) mod 80 = 65\n(3 * 76) mod 80 = 68\n(3 * 77) mod 80 = 71\n(3 * 78) mod 80 = 74\n(3 * 79) mod 80 = 77\nd = 27\n",
          "output_type": "stream"
        }
      ],
      "execution_count": 22
    },
    {
      "cell_type": "markdown",
      "source": "<h2>RSA Encryption</h2>\nEncryption is using the public key {e, n}<br>\nPlaintext: M < n<br>\nCiphertext: C = M^e (mod n)",
      "metadata": {}
    },
    {
      "cell_type": "code",
      "source": "cipher = pow(message,e,n)\nprint(f'cipher = {cipher}')",
      "metadata": {
        "trusted": true
      },
      "outputs": [
        {
          "name": "stdout",
          "text": "cipher = 92\n",
          "output_type": "stream"
        }
      ],
      "execution_count": 23
    },
    {
      "cell_type": "markdown",
      "source": "<h2>RSA Decryption</h2>\nDecryption is using the private key {d, n}<br>\nPlaintext:  M = C^d (mod n)",
      "metadata": {}
    },
    {
      "cell_type": "code",
      "source": "plain = pow(cipher,d,n)\nprint(f'plain = {plain}')",
      "metadata": {
        "trusted": true
      },
      "outputs": [
        {
          "name": "stdout",
          "text": "plain = 8\n",
          "output_type": "stream"
        }
      ],
      "execution_count": 24
    },
    {
      "cell_type": "code",
      "source": "",
      "metadata": {
        "trusted": true
      },
      "outputs": [],
      "execution_count": null
    }
  ]
}