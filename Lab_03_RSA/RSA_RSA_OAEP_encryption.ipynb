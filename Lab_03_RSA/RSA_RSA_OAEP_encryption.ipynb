{
  "cells": [
    {
      "cell_type": "markdown",
      "metadata": {},
      "source": [
        "<h1>RSA-OAEP Encrypt / Decrypt - Example</h1>"
      ]
    },
    {
      "cell_type": "markdown",
      "metadata": {},
      "source": [
        "<h2>RSA Key Generation</h2>"
      ]
    },
    {
      "cell_type": "code",
      "execution_count": null,
      "metadata": {
        "trusted": true
      },
      "outputs": [],
      "source": [
        "from Crypto.PublicKey import RSA\n",
        "from Crypto.Cipher import PKCS1_OAEP\n",
        "import binascii\n",
        "\n",
        "keyPair = RSA.generate(1024)\n",
        "\n",
        "pubKey = keyPair.publickey()\n",
        "print(f\"Public key:  (n={hex(pubKey.n)}, e={hex(pubKey.e)})\")\n",
        "pubKeyPEM = pubKey.exportKey()\n",
        "print(pubKeyPEM.decode('ascii'))\n",
        "\n",
        "print(f\"Private key: (n={hex(pubKey.n)}, d={hex(keyPair.d)})\")\n",
        "privKeyPEM = keyPair.exportKey()\n",
        "print(privKeyPEM.decode('ascii'))"
      ]
    },
    {
      "cell_type": "markdown",
      "metadata": {},
      "source": [
        "<h2>RSA-OAEP Encryption</h2>"
      ]
    },
    {
      "cell_type": "code",
      "execution_count": null,
      "metadata": {
        "trusted": true
      },
      "outputs": [],
      "source": [
        "msg = b'Hello World'\n",
        "encryptor = PKCS1_OAEP.new(pubKey)\n",
        "encrypted = encryptor.encrypt(msg)\n",
        "print(\"Encrypted:\", binascii.hexlify(encrypted))"
      ]
    },
    {
      "cell_type": "markdown",
      "metadata": {},
      "source": [
        "<h2>RSA Decryption</h2>"
      ]
    },
    {
      "cell_type": "code",
      "execution_count": null,
      "metadata": {
        "trusted": true
      },
      "outputs": [],
      "source": [
        "decryptor = PKCS1_OAEP.new(keyPair)\n",
        "decrypted = decryptor.decrypt(encrypted)\n",
        "print('Decrypted:', decrypted)"
      ]
    },
    {
      "cell_type": "code",
      "execution_count": null,
      "metadata": {},
      "outputs": [],
      "source": []
    }
  ],
  "metadata": {
    "kernelspec": {
      "display_name": "Python 3",
      "language": "python",
      "name": "python3"
    },
    "language_info": {
      "codemirror_mode": {
        "name": "ipython",
        "version": 3
      },
      "file_extension": ".py",
      "mimetype": "text/x-python",
      "name": "python",
      "nbconvert_exporter": "python",
      "pygments_lexer": "ipython3",
      "version": "3.8.1"
    }
  },
  "nbformat": 4,
  "nbformat_minor": 4
}
