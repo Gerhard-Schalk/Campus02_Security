{
  "cells": [
    {
      "attachments": {},
      "cell_type": "markdown",
      "metadata": {},
      "source": [
        "<h1>AES - Block Cipher Mode of Operation</h1><br>\n"
      ]
    },
    {
      "cell_type": "code",
      "execution_count": 3,
      "metadata": {
        "trusted": true
      },
      "outputs": [],
      "source": [
        "from cryptography.hazmat.primitives.ciphers import Cipher, algorithms, modes\n",
        "from cryptography.hazmat.backends import default_backend\n",
        "import sys\n",
        "\n",
        "def encrypt_image(infile, outfile, key, cipher_mode):\n",
        "    aesCipher = Cipher(algorithms.AES(key), cipher_mode, backend=default_backend())\n",
        "    aesEncryptor = aesCipher.encryptor()\n",
        "\n",
        "    with open(infile, \"rb\") as reader:\n",
        "        with open(outfile, \"wb+\") as writer:\n",
        "            image_data = reader.read()\n",
        "            image_header, image_body = image_data[:54], image_data[54:]\n",
        "            image_body += b\"\\x00\"*(16-(len(image_body)%16))\n",
        "            writer.write(image_header + aesEncryptor.update(image_body))"
      ]
    },
    {
      "attachments": {},
      "cell_type": "markdown",
      "metadata": {},
      "source": [
        "Encrypt a bitmap image (.bmp) using AES ECB mode"
      ]
    },
    {
      "cell_type": "code",
      "execution_count": 4,
      "metadata": {
        "trusted": true
      },
      "outputs": [],
      "source": [
        "key = bytes.fromhex('00112233445566778899AABBCCDDEEFF')\n",
        "\n",
        "# Encrypt image using ECB mode\n",
        "encrypt_image('demo.bmp', 'demo_aes_ecb.bmp', key, modes.ECB())"
      ]
    },
    {
      "attachments": {},
      "cell_type": "markdown",
      "metadata": {},
      "source": [
        "Encrypt a bitmap image (.bmp) using AES CBC mode"
      ]
    },
    {
      "cell_type": "code",
      "execution_count": 5,
      "metadata": {
        "trusted": true
      },
      "outputs": [],
      "source": [
        "#ToDo"
      ]
    }
  ],
  "metadata": {
    "kernelspec": {
      "display_name": "Python 3",
      "language": "python",
      "name": "python3"
    },
    "language_info": {
      "codemirror_mode": {
        "name": "ipython",
        "version": 3
      },
      "file_extension": ".py",
      "mimetype": "text/x-python",
      "name": "python",
      "nbconvert_exporter": "python",
      "pygments_lexer": "ipython3",
      "version": "3.8.1"
    }
  },
  "nbformat": 4,
  "nbformat_minor": 4
}
