{
 "cells": [
  {
   "attachments": {},
   "cell_type": "markdown",
   "metadata": {},
   "source": [
    "<h1>AES - Encryption/Decryption Example</h1><br>"
   ]
  },
  {
   "cell_type": "code",
   "execution_count": null,
   "metadata": {},
   "outputs": [],
   "source": [
    "from cryptography.hazmat.primitives.ciphers import Cipher, algorithms, modes\n",
    "from cryptography.hazmat.backends import default_backend\n",
    "import sys\n",
    "\n",
    "key = bytes.fromhex('00112233445566778899AABBCCDDEEFF')\n",
    "\n",
    "aesCipher = Cipher(algorithms.AES(key), modes.ECB(), backend=default_backend())\n",
    "aesEncryptor = aesCipher.encryptor()\n",
    "\n",
    "plain_text = b'abcdefghijklmnop'\n",
    "print('Plain Text  = 0x'+ plain_text.hex(' ').upper() + '  ' + str(plain_text) )\n",
    "\n",
    "cipher_text = aesEncryptor.update(plain_text)\n",
    "print('Cipher Text = 0x'+ cipher_text.hex(' ').upper() + '  ' + str(cipher_text))\n",
    "            \n",
    "aesDecryptor = aesCipher.decryptor()\n",
    "plain_text = aesDecryptor = aesDecryptor.update(cipher_text)\n",
    "print('Plain Text  = 0x'+ plain_text.hex(' ').upper() + '  ' + str(plain_text) )"
   ]
  },
  {
   "attachments": {},
   "cell_type": "markdown",
   "metadata": {},
   "source": [
    "<b>ToDo:</b> Encrypt/Decrypt your first name and check the output."
   ]
  },
  {
   "cell_type": "code",
   "execution_count": null,
   "metadata": {},
   "outputs": [],
   "source": [
    "plain_text = b'Your first name'\n",
    "print('Plain Text  = 0x'+ plain_text.hex(' ').upper() + '  ' + str(plain_text) )\n",
    "\n",
    "cipher_text = aesEncryptor.update(plain_text)\n",
    "print('Cipher Text = 0x'+ cipher_text.hex(' ').upper() + '  ' + str(cipher_text))\n",
    "            \n",
    "aesDecryptor = aesCipher.decryptor()\n",
    "plain_text = aesDecryptor = aesDecryptor.update(cipher_text)\n",
    "print('Plain Text  = 0x'+ plain_text.hex(' ').upper() + '  ' + str(plain_text) )"
   ]
  }
 ],
 "metadata": {
  "kernelspec": {
   "display_name": "Python 3",
   "language": "python",
   "name": "python3"
  },
  "language_info": {
   "codemirror_mode": {
    "name": "ipython",
    "version": 3
   },
   "file_extension": ".py",
   "mimetype": "text/x-python",
   "name": "python",
   "nbconvert_exporter": "python",
   "pygments_lexer": "ipython3",
   "version": "3.8.1"
  },
  "orig_nbformat": 4
 },
 "nbformat": 4,
 "nbformat_minor": 2
}
