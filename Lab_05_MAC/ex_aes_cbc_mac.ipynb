{
 "cells": [
  {
   "attachments": {},
   "cell_type": "markdown",
   "metadata": {},
   "source": [
    "<h1>Textbook Message Authentication Code (MAC)</h1><br>\n",
    "Note: This example shows the CBC-MAC principle.<br>\n",
    "https://cryptography.io/en/latest/ <br>"
   ]
  },
  {
   "cell_type": "code",
   "execution_count": null,
   "metadata": {},
   "outputs": [],
   "source": [
    "\n",
    "from cryptography.hazmat.primitives.ciphers import Cipher, algorithms, modes\n",
    "from cryptography.hazmat.primitives import padding\n",
    "from cryptography.hazmat.backends import default_backend\n",
    "\n",
    "\n",
    "def calcCbcMac(data, key):\n",
    "    IV = bytes(16) # 16 zero bytes\n",
    "    aesCipher = Cipher(algorithms.AES(key), modes.CBC(IV), backend=default_backend())\n",
    "    aesEncryptor = aesCipher.encryptor()\n",
    "    \n",
    "    # Zero padding\n",
    "    padded_data = data + b\"\\x00\"*(16-(len(data)%16))\n",
    "    # Encrypt the data\n",
    "    encrypted_data =  aesEncryptor.update(padded_data)\n",
    "\n",
    "    # the last 16 bytes are the last block and represents the CBC-MAC\n",
    "    cbc_mac = encrypted_data[-16:]\n",
    "       \n",
    "    return cbc_mac\n"
   ]
  },
  {
   "attachments": {},
   "cell_type": "markdown",
   "metadata": {},
   "source": [
    "Alice creates a message with CBC MAC"
   ]
  },
  {
   "cell_type": "code",
   "execution_count": null,
   "metadata": {},
   "outputs": [],
   "source": [
    "alice_secrect_aes_key = bytes.fromhex('00112233445566778899AABBCCDDEEFF')\n",
    "\n",
    "alice_msg = b'Hello World! Hello World!'\n",
    "alice_cbc_mac = calcCbcMac(alice_msg, alice_secrect_aes_key)\n",
    "alice_msg_with_mac = alice_msg + alice_cbc_mac\n",
    "\n",
    "print('   Send Message with MAC = 0x'+ alice_msg_with_mac[:-16].hex(' ').upper() \n",
    "      + ' [' + alice_msg_with_mac[-16:].hex(' ').upper() + ']')"
   ]
  },
  {
   "attachments": {},
   "cell_type": "markdown",
   "metadata": {},
   "source": [
    "<b>Taks:</b> Try what happed if Marvin modivies the message."
   ]
  },
  {
   "cell_type": "code",
   "execution_count": null,
   "metadata": {},
   "outputs": [],
   "source": [
    "#alice_msg_with_mac = alice_msg_with_mac.replace(b'e',b'E')"
   ]
  },
  {
   "attachments": {},
   "cell_type": "markdown",
   "metadata": {},
   "source": [
    "Bob also calculates the MAC and compares the calculated MAC with the received MAC"
   ]
  },
  {
   "cell_type": "code",
   "execution_count": null,
   "metadata": {},
   "outputs": [],
   "source": [
    "print('Received Message with MAC = 0x'+ alice_msg_with_mac[:-16].hex(' ').upper() + ' [' + alice_msg_with_mac[-16:].hex(' ').upper() + ']')\n",
    "received_mac = alice_msg_with_mac[-16:]\n",
    "\n",
    "#ToDo: Finalize the example ..."
   ]
  }
 ],
 "metadata": {
  "kernelspec": {
   "display_name": "Python 3",
   "language": "python",
   "name": "python3"
  },
  "language_info": {
   "codemirror_mode": {
    "name": "ipython",
    "version": 3
   },
   "file_extension": ".py",
   "mimetype": "text/x-python",
   "name": "python",
   "nbconvert_exporter": "python",
   "pygments_lexer": "ipython3",
   "version": "3.8.1"
  },
  "orig_nbformat": 4
 },
 "nbformat": 4,
 "nbformat_minor": 2
}
