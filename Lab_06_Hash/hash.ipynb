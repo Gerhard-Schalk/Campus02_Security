{
  "cells": [
    {
      "attachments": {},
      "cell_type": "markdown",
      "metadata": {},
      "source": [
        "<h1>Message digests (Hashing)</h1>\n",
        "https://cryptography.io/en/latest/hazmat/primitives/cryptographic-hashes/#<br>"
      ]
    },
    {
      "cell_type": "code",
      "execution_count": 22,
      "metadata": {
        "trusted": true
      },
      "outputs": [
        {
          "name": "stdout",
          "output_type": "stream",
          "text": [
            "SHA256  0x7F 83 B1 65 7F F1 FC 53 B9 2D C1 81 48 A1 D6 5D FC 2D 4B 1F A3 D6 77 28 4A DD D2 00 12 6D 90 69\n"
          ]
        }
      ],
      "source": [
        "from cryptography.hazmat.primitives import hashes\n",
        "\n",
        "digest = hashes.Hash( hashes.SHA256() )\n",
        "\n",
        "msg1 = 'Hello World!'\n",
        "baMessage1 = msg1.encode('utf-8')\n",
        "\n",
        "digest.update(baMessage1)\n",
        "hash256_msg1 = digest.finalize()\n",
        "\n",
        "print('SHA256  0x' + hash256_msg1.hex(' ').upper())"
      ]
    },
    {
      "cell_type": "code",
      "execution_count": 23,
      "metadata": {},
      "outputs": [
        {
          "name": "stdout",
          "output_type": "stream",
          "text": [
            "SHA256  0xF4 BB 19 75 BF 1F 81 F7 6C E8 24 F7 53 6C 1E 10 1A 80 60 A6 32 A5 22 89 D5 30 A6 F6 00 D5 2C 92\n"
          ]
        }
      ],
      "source": [
        "digest = hashes.Hash( hashes.SHA256() )\n",
        "msg2 = 'Hello World.'\n",
        "baMessage2 = msg2.encode('utf-8')\n",
        "\n",
        "digest.update(baMessage2)\n",
        "hash256_msg2 = digest.finalize()\n",
        "\n",
        "print('SHA256  0x' + hash256_msg2.hex(' ').upper())"
      ]
    },
    {
      "cell_type": "code",
      "execution_count": null,
      "metadata": {
        "trusted": true
      },
      "outputs": [],
      "source": []
    }
  ],
  "metadata": {
    "kernelspec": {
      "display_name": "Python 3",
      "language": "python",
      "name": "python3"
    },
    "language_info": {
      "codemirror_mode": {
        "name": "ipython",
        "version": 3
      },
      "file_extension": ".py",
      "mimetype": "text/x-python",
      "name": "python",
      "nbconvert_exporter": "python",
      "pygments_lexer": "ipython3",
      "version": "3.8.1"
    }
  },
  "nbformat": 4,
  "nbformat_minor": 4
}
