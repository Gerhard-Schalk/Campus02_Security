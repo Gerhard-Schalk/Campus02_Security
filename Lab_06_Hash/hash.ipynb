{
  "cells": [
    {
      "attachments": {},
      "cell_type": "markdown",
      "metadata": {},
      "source": [
        "<h1>Message digests (Hashing)</h1>\n",
        "https://cryptography.io/en/latest/hazmat/primitives/cryptographic-hashes/#<br>"
      ]
    },
    {
      "cell_type": "code",
      "execution_count": null,
      "metadata": {
        "trusted": true
      },
      "outputs": [],
      "source": [
        "from cryptography.hazmat.primitives import hashes\n",
        "\n",
        "digest = hashes.Hash( hashes.SHA256() )\n",
        "\n",
        "msg1 = 'Hello World!'\n",
        "baMessage1 = msg1.encode('utf-8')\n",
        "\n",
        "digest.update(baMessage1)\n",
        "hash256_msg1 = digest.finalize()\n",
        "\n",
        "print('SHA256  0x' + hash256_msg1.hex(' ').upper())"
      ]
    },
    {
      "cell_type": "code",
      "execution_count": null,
      "metadata": {},
      "outputs": [],
      "source": [
        "digest = hashes.Hash( hashes.SHA256() )\n",
        "msg2 = 'Hello World.'\n",
        "baMessage2 = msg2.encode('utf-8')\n",
        "\n",
        "digest.update(baMessage2)\n",
        "hash256_msg2 = digest.finalize()\n",
        "\n",
        "print('SHA256  0x' + hash256_msg2.hex(' ').upper())"
      ]
    },
    {
      "cell_type": "code",
      "execution_count": null,
      "metadata": {
        "trusted": true
      },
      "outputs": [],
      "source": []
    }
  ],
  "metadata": {
    "kernelspec": {
      "display_name": "Python 3",
      "language": "python",
      "name": "python3"
    },
    "language_info": {
      "codemirror_mode": {
        "name": "ipython",
        "version": 3
      },
      "file_extension": ".py",
      "mimetype": "text/x-python",
      "name": "python",
      "nbconvert_exporter": "python",
      "pygments_lexer": "ipython3",
      "version": "3.8.1"
    }
  },
  "nbformat": 4,
  "nbformat_minor": 4
}
