{
 "cells": [
  {
   "attachments": {},
   "cell_type": "markdown",
   "metadata": {},
   "source": [
    "<h1>Textbook Diffie-Hellman-Key Exchange (DHKE)</h1>"
   ]
  },
  {
   "cell_type": "code",
   "execution_count": null,
   "metadata": {},
   "outputs": [],
   "source": [
    "from Crypto.Util.number import *\n",
    "from Crypto import Random\n",
    "import Crypto\n",
    "import binascii"
   ]
  },
  {
   "attachments": {},
   "cell_type": "markdown",
   "metadata": {},
   "source": [
    "<h2>Generate the Public domain parameters g and p</h2>"
   ]
  },
  {
   "cell_type": "code",
   "execution_count": null,
   "metadata": {},
   "outputs": [],
   "source": [
    "#Generate the Public domain parameters g and p\n",
    "prim_bit_length = 32\n",
    "p = Crypto.Util.number.getPrime(prim_bit_length, randfunc=Crypto.Random.get_random_bytes)\n",
    "g_bytes = Crypto.Random.get_random_bytes(2)\n",
    "g = int.from_bytes(g_bytes,\"big\")\n",
    "\n",
    "print('Domain parameter p = ' + str(p)) \n",
    "print('Domain parameter g = ' + str(g) + '\\n')\n"
   ]
  },
  {
   "attachments": {},
   "cell_type": "markdown",
   "metadata": {},
   "source": [
    "<h2>Alice key generation</h2>\n",
    "Alice generates a secrect random number a <br>\n",
    "and calculates the public key A = g^a (mod p)<br>"
   ]
  },
  {
   "cell_type": "code",
   "execution_count": null,
   "metadata": {},
   "outputs": [],
   "source": [
    "a_bytes = Crypto.Random.get_random_bytes(2)\n",
    "a = int.from_bytes(a_bytes,\"big\")\n",
    "print('Alice\\'s secrect random number a = ' + str(a))\n",
    "\n",
    "A = pow(g, a, p)\n",
    "print('Alice\\'s public key A = ' + str(A) + '\\n') "
   ]
  },
  {
   "attachments": {},
   "cell_type": "markdown",
   "metadata": {},
   "source": [
    "<h2>Bob key generation</h2>\n",
    "Bob generates a secrect random number b <br>\n",
    "and calculates the public key B = g^b (mod p)<br>"
   ]
  },
  {
   "cell_type": "code",
   "execution_count": null,
   "metadata": {},
   "outputs": [],
   "source": [
    "b_bytes = Crypto.Random.get_random_bytes(2)\n",
    "b = int.from_bytes(b_bytes,\"big\")\n",
    "print('Bob\\'s secrect random number a = ' + str(a))\n",
    "\n",
    "B = pow(g, b, p)\n",
    "print('Bob\\'s public key B = ' + str(B) + '\\n') "
   ]
  },
  {
   "attachments": {},
   "cell_type": "markdown",
   "metadata": {},
   "source": [
    "Alice and Bob are exchanging the public keys"
   ]
  },
  {
   "attachments": {},
   "cell_type": "markdown",
   "metadata": {},
   "source": [
    "<h2>Alice calculates the shared secret key</h2>\n",
    "shared secrect key K = B^a mod p"
   ]
  },
  {
   "cell_type": "code",
   "execution_count": null,
   "metadata": {},
   "outputs": [],
   "source": [
    "k_alice = pow(B, a, p)\n",
    "print('Alice\\'s shared secrect key K = ' + str(k_alice) + '\\n') "
   ]
  },
  {
   "attachments": {},
   "cell_type": "markdown",
   "metadata": {},
   "source": [
    "<h2>Bob calculates the shared secret key</h2>\n",
    "shared secrect key K = B^a mod p"
   ]
  },
  {
   "cell_type": "code",
   "execution_count": null,
   "metadata": {},
   "outputs": [],
   "source": [
    "k_bob = pow(A, b, p)\n",
    "print('Bob\\'s shared secrect key K = ' + str(k_bob) + '\\n') "
   ]
  }
 ],
 "metadata": {
  "kernelspec": {
   "display_name": "Python 3",
   "language": "python",
   "name": "python3"
  },
  "language_info": {
   "codemirror_mode": {
    "name": "ipython",
    "version": 3
   },
   "file_extension": ".py",
   "mimetype": "text/x-python",
   "name": "python",
   "nbconvert_exporter": "python",
   "pygments_lexer": "ipython3",
   "version": "3.8.1"
  },
  "orig_nbformat": 4
 },
 "nbformat": 4,
 "nbformat_minor": 2
}
