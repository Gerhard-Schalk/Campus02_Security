{
  "metadata": {
    "kernelspec": {
      "name": "python",
      "display_name": "Python (Pyodide)",
      "language": "python"
    },
    "language_info": {
      "codemirror_mode": {
        "name": "python",
        "version": 3
      },
      "file_extension": ".py",
      "mimetype": "text/x-python",
      "name": "python",
      "nbconvert_exporter": "python",
      "pygments_lexer": "ipython3",
      "version": "3.8"
    }
  },
  "nbformat_minor": 4,
  "nbformat": 4,
  "cells": [
    {
      "cell_type": "markdown",
      "source": "<h1>Textbook Diffie-Hellman-Key Exchange (DHKE)</h1>",
      "metadata": {}
    },
    {
      "cell_type": "code",
      "source": "from Crypto.Util.number import *\nfrom Crypto import Random\nimport Crypto\nimport binascii",
      "metadata": {
        "trusted": true
      },
      "execution_count": null,
      "outputs": []
    },
    {
      "cell_type": "markdown",
      "source": "<h2>Generate the Public domain parameters g and p</h2>",
      "metadata": {}
    },
    {
      "cell_type": "code",
      "source": "#Generate the Public domain parameters g and p\nprim_bit_length = 32\np = Crypto.Util.number.getPrime(prim_bit_length, randfunc=Crypto.Random.get_random_bytes)\ng_bytes = Crypto.Random.get_random_bytes(2)\ng = int.from_bytes(g_bytes,\"big\")\n\nprint('Domain parameter p = ' + str(p)) \nprint('Domain parameter g = ' + str(g) + '\\n')\n",
      "metadata": {
        "trusted": true
      },
      "execution_count": null,
      "outputs": []
    },
    {
      "cell_type": "markdown",
      "source": "<h2>Alice key generation</h2>\nAlice generates a secrect random number a <br>\nand calculates the public key A = g^a (mod p)<br>",
      "metadata": {}
    },
    {
      "cell_type": "code",
      "source": "a_bytes = Crypto.Random.get_random_bytes(2)\na = int.from_bytes(a_bytes,\"big\")\nprint('Alice\\'s secrect random number a = ' + str(a))\n\nA = pow(g, a, p)\nprint('Alice\\'s public key A = ' + str(A) + '\\n') ",
      "metadata": {
        "trusted": true
      },
      "execution_count": null,
      "outputs": []
    },
    {
      "cell_type": "markdown",
      "source": "<h2>Bob key generation</h2>\nBob generates a secrect random number b <br>\nand calculates the public key B = g^b (mod p)<br>",
      "metadata": {}
    },
    {
      "cell_type": "code",
      "source": "b_bytes = Crypto.Random.get_random_bytes(2)\nb = int.from_bytes(b_bytes,\"big\")\nprint('Bob\\'s secrect random number b = ' + str(b))\n\nB = pow(g, b, p)\nprint('Bob\\'s public key B = ' + str(B) + '\\n') ",
      "metadata": {
        "trusted": true
      },
      "execution_count": null,
      "outputs": []
    },
    {
      "cell_type": "markdown",
      "source": "Alice and Bob are exchanging the public keys",
      "metadata": {}
    },
    {
      "cell_type": "markdown",
      "source": "<h2>Alice calculates the shared secret key</h2>\nshared secrect key K = B^a mod p",
      "metadata": {}
    },
    {
      "cell_type": "code",
      "source": "k_alice = pow(B, a, p)\nprint('Alice\\'s shared secrect key K = ' + str(k_alice) + '\\n') ",
      "metadata": {
        "trusted": true
      },
      "execution_count": null,
      "outputs": []
    },
    {
      "cell_type": "markdown",
      "source": "<h2>Bob calculates the shared secret key</h2>\nshared secrect key K = B^a mod p",
      "metadata": {}
    },
    {
      "cell_type": "code",
      "source": "k_bob = pow(A, b, p)\nprint('Bob\\'s shared secrect key K = ' + str(k_bob) + '\\n') ",
      "metadata": {
        "trusted": true
      },
      "execution_count": null,
      "outputs": []
    }
  ]
}