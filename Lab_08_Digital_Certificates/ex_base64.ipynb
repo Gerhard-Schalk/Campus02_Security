{
 "cells": [
  {
   "attachments": {},
   "cell_type": "markdown",
   "metadata": {},
   "source": [
    "<h1>Base64</h1>"
   ]
  },
  {
   "cell_type": "code",
   "execution_count": null,
   "metadata": {},
   "outputs": [],
   "source": [
    "import base64\n",
    "\n",
    "string = \"Hello World\"\n",
    "\n",
    "string_bytes = string.encode('utf-8')\n",
    "\n",
    "base64_bytes = base64.b64encode(string_bytes)\n",
    "\n",
    "base64_string = base64_bytes.decode('utf-8')\n",
    "print(base64_string)\n",
    "\n",
    "s = base64.b64decode(base64_string).decode('utf-8')\n",
    "print(s)"
   ]
  }
 ],
 "metadata": {
  "kernelspec": {
   "display_name": "Python 3",
   "language": "python",
   "name": "python3"
  },
  "language_info": {
   "codemirror_mode": {
    "name": "ipython",
    "version": 3
   },
   "file_extension": ".py",
   "mimetype": "text/x-python",
   "name": "python",
   "nbconvert_exporter": "python",
   "pygments_lexer": "ipython3",
   "version": "3.8.1"
  },
  "orig_nbformat": 4
 },
 "nbformat": 4,
 "nbformat_minor": 2
}
