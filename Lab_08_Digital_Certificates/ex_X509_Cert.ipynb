{
 "cells": [
  {
   "attachments": {},
   "cell_type": "markdown",
   "metadata": {},
   "source": [
    "<h1>X.509 Certificate</h1>"
   ]
  },
  {
   "cell_type": "code",
   "execution_count": null,
   "metadata": {},
   "outputs": [],
   "source": [
    "#https://cryptography.io/en/latest/x509/reference/#loading-certificates\n",
    "\n",
    "#https://cryptography.io/en/latest/hazmat/primitives/asymmetric/serialization/#cryptography.hazmat.primitives.serialization.Encoding\n",
    "from cryptography import x509\n",
    "from cryptography.hazmat.primitives.asymmetric import rsa\n",
    "from cryptography.hazmat.primitives import serialization\n",
    "from Crypto.Util.number import *\n",
    "import binascii\n",
    "from print_bytes_util import print_bytes\n",
    "\n",
    "cert_pem_data = open(\"www.campus02.at.crt\", \"rb\").read()\n",
    "\n",
    "cert = x509.load_pem_x509_certificate(cert_pem_data)\n",
    "\n",
    "#print('Serial nummber = 0x' + str(long_to_bytes(cert.serial_number)) )\n",
    "print_bytes('Serial nummber = 0x', long_to_bytes(cert.serial_number), 32)\n",
    "\n",
    "print('Subject ',cert.subject)\n",
    "\n",
    "public_key = cert.public_key()\n",
    "print('Is RSA Public Key: ', isinstance(public_key, rsa.RSAPublicKey) )\n",
    "\n",
    "print_bytes('Public Key e = 0x', long_to_bytes(public_key.public_numbers().e), 32)\n",
    "print_bytes('Public Key n = 0x', long_to_bytes(public_key.public_numbers().n), 32)\n",
    "\n",
    "\n"
   ]
  }
 ],
 "metadata": {
  "kernelspec": {
   "display_name": "Python 3",
   "language": "python",
   "name": "python3"
  },
  "language_info": {
   "codemirror_mode": {
    "name": "ipython",
    "version": 3
   },
   "file_extension": ".py",
   "mimetype": "text/x-python",
   "name": "python",
   "nbconvert_exporter": "python",
   "pygments_lexer": "ipython3",
   "version": "3.8.1"
  },
  "orig_nbformat": 4
 },
 "nbformat": 4,
 "nbformat_minor": 2
}
